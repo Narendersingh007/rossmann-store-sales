{
 "cells": [
  {
   "cell_type": "code",
   "execution_count": 1,
   "id": "4bff55bc",
   "metadata": {},
   "outputs": [],
   "source": [
    "import pandas as pd\n",
    "import numpy as np\n",
    "import matplotlib.pyplot as plt\n",
    "import seaborn as sns\n",
    "\n",
    "# Set some basic plotting styles\n",
    "sns.set(style='darkgrid')\n",
    "plt.rcParams['figure.figsize'] = (12, 6)"
   ]
  },
  {
   "cell_type": "code",
   "execution_count": 2,
   "id": "0bff9e10",
   "metadata": {},
   "outputs": [
    {
     "data": {
      "text/html": [
       "<div>\n",
       "<style scoped>\n",
       "    .dataframe tbody tr th:only-of-type {\n",
       "        vertical-align: middle;\n",
       "    }\n",
       "\n",
       "    .dataframe tbody tr th {\n",
       "        vertical-align: top;\n",
       "    }\n",
       "\n",
       "    .dataframe thead th {\n",
       "        text-align: right;\n",
       "    }\n",
       "</style>\n",
       "<table border=\"1\" class=\"dataframe\">\n",
       "  <thead>\n",
       "    <tr style=\"text-align: right;\">\n",
       "      <th></th>\n",
       "      <th>Store</th>\n",
       "      <th>DayOfWeek</th>\n",
       "      <th>Date</th>\n",
       "      <th>Sales</th>\n",
       "      <th>Customers</th>\n",
       "      <th>Open</th>\n",
       "      <th>Promo</th>\n",
       "      <th>StateHoliday</th>\n",
       "      <th>SchoolHoliday</th>\n",
       "      <th>StoreType</th>\n",
       "      <th>Assortment</th>\n",
       "      <th>CompetitionDistance</th>\n",
       "      <th>CompetitionOpenSinceMonth</th>\n",
       "      <th>CompetitionOpenSinceYear</th>\n",
       "      <th>Promo2</th>\n",
       "      <th>Promo2SinceWeek</th>\n",
       "      <th>Promo2SinceYear</th>\n",
       "      <th>PromoInterval</th>\n",
       "    </tr>\n",
       "  </thead>\n",
       "  <tbody>\n",
       "    <tr>\n",
       "      <th>0</th>\n",
       "      <td>1</td>\n",
       "      <td>5</td>\n",
       "      <td>2015-07-31</td>\n",
       "      <td>5263</td>\n",
       "      <td>555</td>\n",
       "      <td>1</td>\n",
       "      <td>1</td>\n",
       "      <td>0</td>\n",
       "      <td>1</td>\n",
       "      <td>c</td>\n",
       "      <td>a</td>\n",
       "      <td>1270.0</td>\n",
       "      <td>9.0</td>\n",
       "      <td>2008.0</td>\n",
       "      <td>0</td>\n",
       "      <td>NaN</td>\n",
       "      <td>NaN</td>\n",
       "      <td>NaN</td>\n",
       "    </tr>\n",
       "    <tr>\n",
       "      <th>1</th>\n",
       "      <td>2</td>\n",
       "      <td>5</td>\n",
       "      <td>2015-07-31</td>\n",
       "      <td>6064</td>\n",
       "      <td>625</td>\n",
       "      <td>1</td>\n",
       "      <td>1</td>\n",
       "      <td>0</td>\n",
       "      <td>1</td>\n",
       "      <td>a</td>\n",
       "      <td>a</td>\n",
       "      <td>570.0</td>\n",
       "      <td>11.0</td>\n",
       "      <td>2007.0</td>\n",
       "      <td>1</td>\n",
       "      <td>13.0</td>\n",
       "      <td>2010.0</td>\n",
       "      <td>Jan,Apr,Jul,Oct</td>\n",
       "    </tr>\n",
       "    <tr>\n",
       "      <th>2</th>\n",
       "      <td>3</td>\n",
       "      <td>5</td>\n",
       "      <td>2015-07-31</td>\n",
       "      <td>8314</td>\n",
       "      <td>821</td>\n",
       "      <td>1</td>\n",
       "      <td>1</td>\n",
       "      <td>0</td>\n",
       "      <td>1</td>\n",
       "      <td>a</td>\n",
       "      <td>a</td>\n",
       "      <td>14130.0</td>\n",
       "      <td>12.0</td>\n",
       "      <td>2006.0</td>\n",
       "      <td>1</td>\n",
       "      <td>14.0</td>\n",
       "      <td>2011.0</td>\n",
       "      <td>Jan,Apr,Jul,Oct</td>\n",
       "    </tr>\n",
       "    <tr>\n",
       "      <th>3</th>\n",
       "      <td>4</td>\n",
       "      <td>5</td>\n",
       "      <td>2015-07-31</td>\n",
       "      <td>13995</td>\n",
       "      <td>1498</td>\n",
       "      <td>1</td>\n",
       "      <td>1</td>\n",
       "      <td>0</td>\n",
       "      <td>1</td>\n",
       "      <td>c</td>\n",
       "      <td>c</td>\n",
       "      <td>620.0</td>\n",
       "      <td>9.0</td>\n",
       "      <td>2009.0</td>\n",
       "      <td>0</td>\n",
       "      <td>NaN</td>\n",
       "      <td>NaN</td>\n",
       "      <td>NaN</td>\n",
       "    </tr>\n",
       "    <tr>\n",
       "      <th>4</th>\n",
       "      <td>5</td>\n",
       "      <td>5</td>\n",
       "      <td>2015-07-31</td>\n",
       "      <td>4822</td>\n",
       "      <td>559</td>\n",
       "      <td>1</td>\n",
       "      <td>1</td>\n",
       "      <td>0</td>\n",
       "      <td>1</td>\n",
       "      <td>a</td>\n",
       "      <td>a</td>\n",
       "      <td>29910.0</td>\n",
       "      <td>4.0</td>\n",
       "      <td>2015.0</td>\n",
       "      <td>0</td>\n",
       "      <td>NaN</td>\n",
       "      <td>NaN</td>\n",
       "      <td>NaN</td>\n",
       "    </tr>\n",
       "  </tbody>\n",
       "</table>\n",
       "</div>"
      ],
      "text/plain": [
       "   Store  DayOfWeek        Date  Sales  Customers  Open  Promo StateHoliday  \\\n",
       "0      1          5  2015-07-31   5263        555     1      1            0   \n",
       "1      2          5  2015-07-31   6064        625     1      1            0   \n",
       "2      3          5  2015-07-31   8314        821     1      1            0   \n",
       "3      4          5  2015-07-31  13995       1498     1      1            0   \n",
       "4      5          5  2015-07-31   4822        559     1      1            0   \n",
       "\n",
       "   SchoolHoliday StoreType Assortment  CompetitionDistance  \\\n",
       "0              1         c          a               1270.0   \n",
       "1              1         a          a                570.0   \n",
       "2              1         a          a              14130.0   \n",
       "3              1         c          c                620.0   \n",
       "4              1         a          a              29910.0   \n",
       "\n",
       "   CompetitionOpenSinceMonth  CompetitionOpenSinceYear  Promo2  \\\n",
       "0                        9.0                    2008.0       0   \n",
       "1                       11.0                    2007.0       1   \n",
       "2                       12.0                    2006.0       1   \n",
       "3                        9.0                    2009.0       0   \n",
       "4                        4.0                    2015.0       0   \n",
       "\n",
       "   Promo2SinceWeek  Promo2SinceYear    PromoInterval  \n",
       "0              NaN              NaN              NaN  \n",
       "1             13.0           2010.0  Jan,Apr,Jul,Oct  \n",
       "2             14.0           2011.0  Jan,Apr,Jul,Oct  \n",
       "3              NaN              NaN              NaN  \n",
       "4              NaN              NaN              NaN  "
      ]
     },
     "execution_count": 2,
     "metadata": {},
     "output_type": "execute_result"
    }
   ],
   "source": [
    "# Load the datasets\n",
    "# Note: We use relative paths from the root of the project\n",
    "try:\n",
    "    train_df = pd.read_csv('../data/train.csv', low_memory=False)\n",
    "    store_df = pd.read_csv('../data/store.csv')\n",
    "except FileNotFoundError:\n",
    "    print(\"File not found. Make sure train.csv and store.csv are in the 'data' folder.\")\n",
    "\n",
    "# Merge the train and store data\n",
    "df = pd.merge(train_df, store_df, on='Store')\n",
    "\n",
    "# Show the first 5 rows to make sure it loaded correctly\n",
    "df.head()"
   ]
  },
  {
   "cell_type": "code",
   "execution_count": 3,
   "id": "9e93be66",
   "metadata": {},
   "outputs": [
    {
     "name": "stdout",
     "output_type": "stream",
     "text": [
      "Total rows for Store 1: 781\n"
     ]
    },
    {
     "data": {
      "text/html": [
       "<div>\n",
       "<style scoped>\n",
       "    .dataframe tbody tr th:only-of-type {\n",
       "        vertical-align: middle;\n",
       "    }\n",
       "\n",
       "    .dataframe tbody tr th {\n",
       "        vertical-align: top;\n",
       "    }\n",
       "\n",
       "    .dataframe thead th {\n",
       "        text-align: right;\n",
       "    }\n",
       "</style>\n",
       "<table border=\"1\" class=\"dataframe\">\n",
       "  <thead>\n",
       "    <tr style=\"text-align: right;\">\n",
       "      <th></th>\n",
       "      <th>Store</th>\n",
       "      <th>DayOfWeek</th>\n",
       "      <th>Sales</th>\n",
       "      <th>Customers</th>\n",
       "      <th>Open</th>\n",
       "      <th>Promo</th>\n",
       "      <th>StateHoliday</th>\n",
       "      <th>SchoolHoliday</th>\n",
       "      <th>StoreType</th>\n",
       "      <th>Assortment</th>\n",
       "      <th>CompetitionDistance</th>\n",
       "      <th>CompetitionOpenSinceMonth</th>\n",
       "      <th>CompetitionOpenSinceYear</th>\n",
       "      <th>Promo2</th>\n",
       "      <th>Promo2SinceWeek</th>\n",
       "      <th>Promo2SinceYear</th>\n",
       "      <th>PromoInterval</th>\n",
       "    </tr>\n",
       "    <tr>\n",
       "      <th>Date</th>\n",
       "      <th></th>\n",
       "      <th></th>\n",
       "      <th></th>\n",
       "      <th></th>\n",
       "      <th></th>\n",
       "      <th></th>\n",
       "      <th></th>\n",
       "      <th></th>\n",
       "      <th></th>\n",
       "      <th></th>\n",
       "      <th></th>\n",
       "      <th></th>\n",
       "      <th></th>\n",
       "      <th></th>\n",
       "      <th></th>\n",
       "      <th></th>\n",
       "      <th></th>\n",
       "    </tr>\n",
       "  </thead>\n",
       "  <tbody>\n",
       "    <tr>\n",
       "      <th>2013-01-02</th>\n",
       "      <td>1</td>\n",
       "      <td>3</td>\n",
       "      <td>5530</td>\n",
       "      <td>668</td>\n",
       "      <td>1</td>\n",
       "      <td>0</td>\n",
       "      <td>0</td>\n",
       "      <td>1</td>\n",
       "      <td>c</td>\n",
       "      <td>a</td>\n",
       "      <td>1270.0</td>\n",
       "      <td>9.0</td>\n",
       "      <td>2008.0</td>\n",
       "      <td>0</td>\n",
       "      <td>NaN</td>\n",
       "      <td>NaN</td>\n",
       "      <td>NaN</td>\n",
       "    </tr>\n",
       "    <tr>\n",
       "      <th>2013-01-03</th>\n",
       "      <td>1</td>\n",
       "      <td>4</td>\n",
       "      <td>4327</td>\n",
       "      <td>578</td>\n",
       "      <td>1</td>\n",
       "      <td>0</td>\n",
       "      <td>0</td>\n",
       "      <td>1</td>\n",
       "      <td>c</td>\n",
       "      <td>a</td>\n",
       "      <td>1270.0</td>\n",
       "      <td>9.0</td>\n",
       "      <td>2008.0</td>\n",
       "      <td>0</td>\n",
       "      <td>NaN</td>\n",
       "      <td>NaN</td>\n",
       "      <td>NaN</td>\n",
       "    </tr>\n",
       "    <tr>\n",
       "      <th>2013-01-04</th>\n",
       "      <td>1</td>\n",
       "      <td>5</td>\n",
       "      <td>4486</td>\n",
       "      <td>619</td>\n",
       "      <td>1</td>\n",
       "      <td>0</td>\n",
       "      <td>0</td>\n",
       "      <td>1</td>\n",
       "      <td>c</td>\n",
       "      <td>a</td>\n",
       "      <td>1270.0</td>\n",
       "      <td>9.0</td>\n",
       "      <td>2008.0</td>\n",
       "      <td>0</td>\n",
       "      <td>NaN</td>\n",
       "      <td>NaN</td>\n",
       "      <td>NaN</td>\n",
       "    </tr>\n",
       "    <tr>\n",
       "      <th>2013-01-05</th>\n",
       "      <td>1</td>\n",
       "      <td>6</td>\n",
       "      <td>4997</td>\n",
       "      <td>635</td>\n",
       "      <td>1</td>\n",
       "      <td>0</td>\n",
       "      <td>0</td>\n",
       "      <td>1</td>\n",
       "      <td>c</td>\n",
       "      <td>a</td>\n",
       "      <td>1270.0</td>\n",
       "      <td>9.0</td>\n",
       "      <td>2008.0</td>\n",
       "      <td>0</td>\n",
       "      <td>NaN</td>\n",
       "      <td>NaN</td>\n",
       "      <td>NaN</td>\n",
       "    </tr>\n",
       "    <tr>\n",
       "      <th>2013-01-07</th>\n",
       "      <td>1</td>\n",
       "      <td>1</td>\n",
       "      <td>7176</td>\n",
       "      <td>785</td>\n",
       "      <td>1</td>\n",
       "      <td>1</td>\n",
       "      <td>0</td>\n",
       "      <td>1</td>\n",
       "      <td>c</td>\n",
       "      <td>a</td>\n",
       "      <td>1270.0</td>\n",
       "      <td>9.0</td>\n",
       "      <td>2008.0</td>\n",
       "      <td>0</td>\n",
       "      <td>NaN</td>\n",
       "      <td>NaN</td>\n",
       "      <td>NaN</td>\n",
       "    </tr>\n",
       "  </tbody>\n",
       "</table>\n",
       "</div>"
      ],
      "text/plain": [
       "            Store  DayOfWeek  Sales  Customers  Open  Promo StateHoliday  \\\n",
       "Date                                                                       \n",
       "2013-01-02      1          3   5530        668     1      0            0   \n",
       "2013-01-03      1          4   4327        578     1      0            0   \n",
       "2013-01-04      1          5   4486        619     1      0            0   \n",
       "2013-01-05      1          6   4997        635     1      0            0   \n",
       "2013-01-07      1          1   7176        785     1      1            0   \n",
       "\n",
       "            SchoolHoliday StoreType Assortment  CompetitionDistance  \\\n",
       "Date                                                                  \n",
       "2013-01-02              1         c          a               1270.0   \n",
       "2013-01-03              1         c          a               1270.0   \n",
       "2013-01-04              1         c          a               1270.0   \n",
       "2013-01-05              1         c          a               1270.0   \n",
       "2013-01-07              1         c          a               1270.0   \n",
       "\n",
       "            CompetitionOpenSinceMonth  CompetitionOpenSinceYear  Promo2  \\\n",
       "Date                                                                      \n",
       "2013-01-02                        9.0                    2008.0       0   \n",
       "2013-01-03                        9.0                    2008.0       0   \n",
       "2013-01-04                        9.0                    2008.0       0   \n",
       "2013-01-05                        9.0                    2008.0       0   \n",
       "2013-01-07                        9.0                    2008.0       0   \n",
       "\n",
       "            Promo2SinceWeek  Promo2SinceYear PromoInterval  \n",
       "Date                                                        \n",
       "2013-01-02              NaN              NaN           NaN  \n",
       "2013-01-03              NaN              NaN           NaN  \n",
       "2013-01-04              NaN              NaN           NaN  \n",
       "2013-01-05              NaN              NaN           NaN  \n",
       "2013-01-07              NaN              NaN           NaN  "
      ]
     },
     "execution_count": 3,
     "metadata": {},
     "output_type": "execute_result"
    }
   ],
   "source": [
    "# --- 1. Handle Date and Sort ---\n",
    "# Convert 'Date' column to datetime objects\n",
    "df['Date'] = pd.to_datetime(df['Date'])\n",
    "\n",
    "# Sort the dataframe by date (important for time series)\n",
    "df.sort_values(by='Date', inplace=True)\n",
    "\n",
    "# --- 2. Filter Data ---\n",
    "# Let's filter for a single store (e.g., Store 1) to start.\n",
    "# Forecasting for all 1,115 stores at once is complex.\n",
    "# We will build a model for just one store.\n",
    "df_store1 = df[df['Store'] == 1].copy()\n",
    "\n",
    "# Filter out days the store was closed (Sales = 0)\n",
    "# These days don't have a pattern for the model to learn\n",
    "df_store1 = df_store1[df_store1['Sales'] > 0]\n",
    "\n",
    "# --- 3. Set Index ---\n",
    "# Set the 'Date' as the index of the dataframe\n",
    "df_store1.set_index('Date', inplace=True)\n",
    "\n",
    "# Check the first 5 rows of our new, clean dataframe\n",
    "print(f\"Total rows for Store 1: {len(df_store1)}\")\n",
    "df_store1.head()"
   ]
  },
  {
   "cell_type": "code",
   "execution_count": 4,
   "id": "092ecd03",
   "metadata": {},
   "outputs": [
    {
     "data": {
      "image/png": "[encoded data removed]",
      "text/plain": [
       "<Figure size 1500x700 with 1 Axes>"
      ]
     },
     "metadata": {},
     "output_type": "display_data"
    },
    {
     "data": {
      "image/png": "[encoded data removed]",
      "text/plain": [
       "<Figure size 1500x700 with 1 Axes>"
      ]
     },
     "metadata": {},
     "output_type": "display_data"
    }
   ],
   "source": [
    "# --- 1. Plot the full time series ---\n",
    "plt.figure(figsize=(15, 7))\n",
    "df_store1['Sales'].plot()\n",
    "plt.title('Store 1 Sales Over Time (2013-2015)')\n",
    "plt.ylabel('Sales')\n",
    "plt.xlabel('Date')\n",
    "plt.show()\n",
    "\n",
    "# --- 2. Plot a zoomed-in view (e.g., first 2 months) ---\n",
    "plt.figure(figsize=(15, 7))\n",
    "df_store1['Sales'].iloc[:60].plot() # Plot the first 60 open days\n",
    "plt.title('Store 1 Sales (First 2 Months) - Weekly Cycle')\n",
    "plt.ylabel('Sales')\n",
    "plt.xlabel('Date')\n",
    "plt.show()"
   ]
  },
  {
   "cell_type": "code",
   "execution_count": 5,
   "id": "3a2b51e8",
   "metadata": {},
   "outputs": [
    {
     "name": "stderr",
     "output_type": "stream",
     "text": [
      "/var/folders/1y/pn9x7lqd0vj4j9d589w2jl1r0000gn/T/ipykernel_10773/2396380258.py:8: FutureWarning: Downcasting behavior in `replace` is deprecated and will be removed in a future version. To retain the old behavior, explicitly call `result.infer_objects(copy=False)`. To opt-in to the future behavior, set `pd.set_option('future.no_silent_downcasting', True)`\n",
      "  model_df['StateHoliday'] = model_df['StateHoliday'].replace('0', 0)\n"
     ]
    },
    {
     "data": {
      "text/html": [
       "<div>\n",
       "<style scoped>\n",
       "    .dataframe tbody tr th:only-of-type {\n",
       "        vertical-align: middle;\n",
       "    }\n",
       "\n",
       "    .dataframe tbody tr th {\n",
       "        vertical-align: top;\n",
       "    }\n",
       "\n",
       "    .dataframe thead th {\n",
       "        text-align: right;\n",
       "    }\n",
       "</style>\n",
       "<table border=\"1\" class=\"dataframe\">\n",
       "  <thead>\n",
       "    <tr style=\"text-align: right;\">\n",
       "      <th></th>\n",
       "      <th>Promo</th>\n",
       "      <th>SchoolHoliday</th>\n",
       "    </tr>\n",
       "    <tr>\n",
       "      <th>Date</th>\n",
       "      <th></th>\n",
       "      <th></th>\n",
       "    </tr>\n",
       "  </thead>\n",
       "  <tbody>\n",
       "    <tr>\n",
       "      <th>2013-01-02</th>\n",
       "      <td>0</td>\n",
       "      <td>1</td>\n",
       "    </tr>\n",
       "    <tr>\n",
       "      <th>2013-01-03</th>\n",
       "      <td>0</td>\n",
       "      <td>1</td>\n",
       "    </tr>\n",
       "    <tr>\n",
       "      <th>2013-01-04</th>\n",
       "      <td>0</td>\n",
       "      <td>1</td>\n",
       "    </tr>\n",
       "    <tr>\n",
       "      <th>2013-01-05</th>\n",
       "      <td>0</td>\n",
       "      <td>1</td>\n",
       "    </tr>\n",
       "    <tr>\n",
       "      <th>2013-01-07</th>\n",
       "      <td>1</td>\n",
       "      <td>1</td>\n",
       "    </tr>\n",
       "  </tbody>\n",
       "</table>\n",
       "</div>"
      ],
      "text/plain": [
       "            Promo  SchoolHoliday\n",
       "Date                            \n",
       "2013-01-02      0              1\n",
       "2013-01-03      0              1\n",
       "2013-01-04      0              1\n",
       "2013-01-05      0              1\n",
       "2013-01-07      1              1"
      ]
     },
     "execution_count": 5,
     "metadata": {},
     "output_type": "execute_result"
    }
   ],
   "source": [
    "# Create a new dataframe for our model\n",
    "model_df = df_store1.copy()\n",
    "\n",
    "# --- Feature Engineering ---\n",
    "\n",
    "# 1. StateHoliday: Convert '0' (string) to 0 (number)\n",
    "# This is to separate \"No Holiday\" (0) from \"a, b, c\" holidays\n",
    "model_df['StateHoliday'] = model_df['StateHoliday'].replace('0', 0)\n",
    "model_df['StateHoliday'] = model_df['StateHoliday'].replace(0, 'NoHoliday')\n",
    "\n",
    "# 2. One-Hot Encode StateHoliday\n",
    "# This creates new columns: StateHoliday_a, StateHoliday_b, etc.\n",
    "model_df = pd.get_dummies(model_df, columns=['StateHoliday'], drop_first=True)\n",
    "\n",
    "# 3. Define our variables\n",
    "# 'y' is the target variable we want to forecast\n",
    "y = model_df['Sales']\n",
    "\n",
    "# 'X' are the external \"helper\" variables\n",
    "# We select all the new columns we just made\n",
    "exog_cols = ['Promo', 'SchoolHoliday'] + [col for col in model_df.columns if col.startswith('StateHoliday_')]\n",
    "X = model_df[exog_cols]\n",
    "\n",
    "# Check the first 5 rows of our new 'X' features\n",
    "X.head()"
   ]
  },
  {
   "cell_type": "code",
   "execution_count": 6,
   "id": "221d8ac5",
   "metadata": {},
   "outputs": [
    {
     "name": "stdout",
     "output_type": "stream",
     "text": [
      "Starting model search... (This may take a few minutes)\n",
      "Performing stepwise search to minimize aic\n"
     ]
    },
    {
     "name": "stderr",
     "output_type": "stream",
     "text": [
      "/Users/narendersingh/Desktop/stuff/repos/rossmann-store-sales/ross/lib/python3.13/site-packages/sklearn/utils/deprecation.py:132: FutureWarning: 'force_all_finite' was renamed to 'ensure_all_finite' in 1.6 and will be removed in 1.8.\n",
      "  warnings.warn(\n",
      "/Users/narendersingh/Desktop/stuff/repos/rossmann-store-sales/ross/lib/python3.13/site-packages/sklearn/utils/deprecation.py:132: FutureWarning: 'force_all_finite' was renamed to 'ensure_all_finite' in 1.6 and will be removed in 1.8.\n",
      "  warnings.warn(\n",
      "/Users/narendersingh/Desktop/stuff/repos/rossmann-store-sales/ross/lib/python3.13/site-packages/sklearn/utils/deprecation.py:132: FutureWarning: 'force_all_finite' was renamed to 'ensure_all_finite' in 1.6 and will be removed in 1.8.\n",
      "  warnings.warn(\n",
      "/Users/narendersingh/Desktop/stuff/repos/rossmann-store-sales/ross/lib/python3.13/site-packages/sklearn/utils/deprecation.py:132: FutureWarning: 'force_all_finite' was renamed to 'ensure_all_finite' in 1.6 and will be removed in 1.8.\n",
      "  warnings.warn(\n",
      "/Users/narendersingh/Desktop/stuff/repos/rossmann-store-sales/ross/lib/python3.13/site-packages/sklearn/utils/deprecation.py:132: FutureWarning: 'force_all_finite' was renamed to 'ensure_all_finite' in 1.6 and will be removed in 1.8.\n",
      "  warnings.warn(\n",
      "/Users/narendersingh/Desktop/stuff/repos/rossmann-store-sales/ross/lib/python3.13/site-packages/sklearn/utils/deprecation.py:132: FutureWarning: 'force_all_finite' was renamed to 'ensure_all_finite' in 1.6 and will be removed in 1.8.\n",
      "  warnings.warn(\n",
      "/Users/narendersingh/Desktop/stuff/repos/rossmann-store-sales/ross/lib/python3.13/site-packages/sklearn/utils/deprecation.py:132: FutureWarning: 'force_all_finite' was renamed to 'ensure_all_finite' in 1.6 and will be removed in 1.8.\n",
      "  warnings.warn(\n",
      "/Users/narendersingh/Desktop/stuff/repos/rossmann-store-sales/ross/lib/python3.13/site-packages/sklearn/utils/deprecation.py:132: FutureWarning: 'force_all_finite' was renamed to 'ensure_all_finite' in 1.6 and will be removed in 1.8.\n",
      "  warnings.warn(\n"
     ]
    },
    {
     "name": "stdout",
     "output_type": "stream",
     "text": [
      " ARIMA(2,0,2)(1,0,1)[7] intercept   : AIC=12508.185, Time=1.57 sec\n",
      " ARIMA(0,0,0)(0,0,0)[7] intercept   : AIC=13028.092, Time=0.02 sec\n"
     ]
    },
    {
     "name": "stderr",
     "output_type": "stream",
     "text": [
      "/Users/narendersingh/Desktop/stuff/repos/rossmann-store-sales/ross/lib/python3.13/site-packages/sklearn/utils/deprecation.py:132: FutureWarning: 'force_all_finite' was renamed to 'ensure_all_finite' in 1.6 and will be removed in 1.8.\n",
      "  warnings.warn(\n",
      "/Users/narendersingh/Desktop/stuff/repos/rossmann-store-sales/ross/lib/python3.13/site-packages/sklearn/utils/deprecation.py:132: FutureWarning: 'force_all_finite' was renamed to 'ensure_all_finite' in 1.6 and will be removed in 1.8.\n",
      "  warnings.warn(\n"
     ]
    },
    {
     "name": "stdout",
     "output_type": "stream",
     "text": [
      " ARIMA(1,0,0)(1,0,0)[7] intercept   : AIC=12534.836, Time=0.27 sec\n"
     ]
    },
    {
     "name": "stderr",
     "output_type": "stream",
     "text": [
      "/Users/narendersingh/Desktop/stuff/repos/rossmann-store-sales/ross/lib/python3.13/site-packages/sklearn/utils/deprecation.py:132: FutureWarning: 'force_all_finite' was renamed to 'ensure_all_finite' in 1.6 and will be removed in 1.8.\n",
      "  warnings.warn(\n"
     ]
    },
    {
     "name": "stdout",
     "output_type": "stream",
     "text": [
      " ARIMA(0,0,1)(0,0,1)[7] intercept   : AIC=12731.233, Time=0.33 sec\n",
      " ARIMA(0,0,0)(0,0,0)[7]             : AIC=15479.610, Time=0.01 sec\n"
     ]
    },
    {
     "name": "stderr",
     "output_type": "stream",
     "text": [
      "/Users/narendersingh/Desktop/stuff/repos/rossmann-store-sales/ross/lib/python3.13/site-packages/sklearn/utils/deprecation.py:132: FutureWarning: 'force_all_finite' was renamed to 'ensure_all_finite' in 1.6 and will be removed in 1.8.\n",
      "  warnings.warn(\n",
      "/Users/narendersingh/Desktop/stuff/repos/rossmann-store-sales/ross/lib/python3.13/site-packages/sklearn/utils/deprecation.py:132: FutureWarning: 'force_all_finite' was renamed to 'ensure_all_finite' in 1.6 and will be removed in 1.8.\n",
      "  warnings.warn(\n"
     ]
    },
    {
     "name": "stdout",
     "output_type": "stream",
     "text": [
      " ARIMA(2,0,2)(0,0,1)[7] intercept   : AIC=12522.839, Time=0.57 sec\n"
     ]
    },
    {
     "name": "stderr",
     "output_type": "stream",
     "text": [
      "/Users/narendersingh/Desktop/stuff/repos/rossmann-store-sales/ross/lib/python3.13/site-packages/sklearn/utils/deprecation.py:132: FutureWarning: 'force_all_finite' was renamed to 'ensure_all_finite' in 1.6 and will be removed in 1.8.\n",
      "  warnings.warn(\n"
     ]
    },
    {
     "name": "stdout",
     "output_type": "stream",
     "text": [
      " ARIMA(2,0,2)(1,0,0)[7] intercept   : AIC=12524.727, Time=1.35 sec\n"
     ]
    },
    {
     "name": "stderr",
     "output_type": "stream",
     "text": [
      "/Users/narendersingh/Desktop/stuff/repos/rossmann-store-sales/ross/lib/python3.13/site-packages/sklearn/utils/deprecation.py:132: FutureWarning: 'force_all_finite' was renamed to 'ensure_all_finite' in 1.6 and will be removed in 1.8.\n",
      "  warnings.warn(\n"
     ]
    },
    {
     "name": "stdout",
     "output_type": "stream",
     "text": [
      " ARIMA(2,0,2)(2,0,1)[7] intercept   : AIC=12505.138, Time=3.18 sec\n"
     ]
    },
    {
     "name": "stderr",
     "output_type": "stream",
     "text": [
      "/Users/narendersingh/Desktop/stuff/repos/rossmann-store-sales/ross/lib/python3.13/site-packages/sklearn/utils/deprecation.py:132: FutureWarning: 'force_all_finite' was renamed to 'ensure_all_finite' in 1.6 and will be removed in 1.8.\n",
      "  warnings.warn(\n"
     ]
    },
    {
     "name": "stdout",
     "output_type": "stream",
     "text": [
      " ARIMA(2,0,2)(2,0,0)[7] intercept   : AIC=12526.617, Time=2.20 sec\n"
     ]
    },
    {
     "name": "stderr",
     "output_type": "stream",
     "text": [
      "/Users/narendersingh/Desktop/stuff/repos/rossmann-store-sales/ross/lib/python3.13/site-packages/sklearn/utils/deprecation.py:132: FutureWarning: 'force_all_finite' was renamed to 'ensure_all_finite' in 1.6 and will be removed in 1.8.\n",
      "  warnings.warn(\n"
     ]
    },
    {
     "name": "stdout",
     "output_type": "stream",
     "text": [
      " ARIMA(2,0,2)(2,0,2)[7] intercept   : AIC=12507.197, Time=4.17 sec\n"
     ]
    },
    {
     "name": "stderr",
     "output_type": "stream",
     "text": [
      "/Users/narendersingh/Desktop/stuff/repos/rossmann-store-sales/ross/lib/python3.13/site-packages/sklearn/utils/deprecation.py:132: FutureWarning: 'force_all_finite' was renamed to 'ensure_all_finite' in 1.6 and will be removed in 1.8.\n",
      "  warnings.warn(\n"
     ]
    },
    {
     "name": "stdout",
     "output_type": "stream",
     "text": [
      " ARIMA(2,0,2)(1,0,2)[7] intercept   : AIC=12505.118, Time=3.18 sec\n"
     ]
    },
    {
     "name": "stderr",
     "output_type": "stream",
     "text": [
      "/Users/narendersingh/Desktop/stuff/repos/rossmann-store-sales/ross/lib/python3.13/site-packages/sklearn/utils/deprecation.py:132: FutureWarning: 'force_all_finite' was renamed to 'ensure_all_finite' in 1.6 and will be removed in 1.8.\n",
      "  warnings.warn(\n"
     ]
    },
    {
     "name": "stdout",
     "output_type": "stream",
     "text": [
      " ARIMA(2,0,2)(0,0,2)[7] intercept   : AIC=12524.536, Time=1.35 sec\n"
     ]
    },
    {
     "name": "stderr",
     "output_type": "stream",
     "text": [
      "/Users/narendersingh/Desktop/stuff/repos/rossmann-store-sales/ross/lib/python3.13/site-packages/sklearn/utils/deprecation.py:132: FutureWarning: 'force_all_finite' was renamed to 'ensure_all_finite' in 1.6 and will be removed in 1.8.\n",
      "  warnings.warn(\n"
     ]
    },
    {
     "name": "stdout",
     "output_type": "stream",
     "text": [
      " ARIMA(1,0,2)(1,0,2)[7] intercept   : AIC=12543.737, Time=3.22 sec\n"
     ]
    },
    {
     "name": "stderr",
     "output_type": "stream",
     "text": [
      "/Users/narendersingh/Desktop/stuff/repos/rossmann-store-sales/ross/lib/python3.13/site-packages/sklearn/utils/deprecation.py:132: FutureWarning: 'force_all_finite' was renamed to 'ensure_all_finite' in 1.6 and will be removed in 1.8.\n",
      "  warnings.warn(\n"
     ]
    },
    {
     "name": "stdout",
     "output_type": "stream",
     "text": [
      " ARIMA(2,0,1)(1,0,2)[7] intercept   : AIC=12523.617, Time=3.01 sec\n"
     ]
    },
    {
     "name": "stderr",
     "output_type": "stream",
     "text": [
      "/Users/narendersingh/Desktop/stuff/repos/rossmann-store-sales/ross/lib/python3.13/site-packages/sklearn/utils/deprecation.py:132: FutureWarning: 'force_all_finite' was renamed to 'ensure_all_finite' in 1.6 and will be removed in 1.8.\n",
      "  warnings.warn(\n"
     ]
    },
    {
     "name": "stdout",
     "output_type": "stream",
     "text": [
      " ARIMA(3,0,2)(1,0,2)[7] intercept   : AIC=12507.221, Time=4.60 sec\n"
     ]
    },
    {
     "name": "stderr",
     "output_type": "stream",
     "text": [
      "/Users/narendersingh/Desktop/stuff/repos/rossmann-store-sales/ross/lib/python3.13/site-packages/sklearn/utils/deprecation.py:132: FutureWarning: 'force_all_finite' was renamed to 'ensure_all_finite' in 1.6 and will be removed in 1.8.\n",
      "  warnings.warn(\n"
     ]
    },
    {
     "name": "stdout",
     "output_type": "stream",
     "text": [
      " ARIMA(2,0,3)(1,0,2)[7] intercept   : AIC=12516.487, Time=5.02 sec\n"
     ]
    },
    {
     "name": "stderr",
     "output_type": "stream",
     "text": [
      "/Users/narendersingh/Desktop/stuff/repos/rossmann-store-sales/ross/lib/python3.13/site-packages/sklearn/utils/deprecation.py:132: FutureWarning: 'force_all_finite' was renamed to 'ensure_all_finite' in 1.6 and will be removed in 1.8.\n",
      "  warnings.warn(\n"
     ]
    },
    {
     "name": "stdout",
     "output_type": "stream",
     "text": [
      " ARIMA(1,0,1)(1,0,2)[7] intercept   : AIC=12538.729, Time=2.28 sec\n"
     ]
    },
    {
     "name": "stderr",
     "output_type": "stream",
     "text": [
      "/Users/narendersingh/Desktop/stuff/repos/rossmann-store-sales/ross/lib/python3.13/site-packages/sklearn/utils/deprecation.py:132: FutureWarning: 'force_all_finite' was renamed to 'ensure_all_finite' in 1.6 and will be removed in 1.8.\n",
      "  warnings.warn(\n"
     ]
    },
    {
     "name": "stdout",
     "output_type": "stream",
     "text": [
      " ARIMA(1,0,3)(1,0,2)[7] intercept   : AIC=12541.870, Time=3.78 sec\n"
     ]
    },
    {
     "name": "stderr",
     "output_type": "stream",
     "text": [
      "/Users/narendersingh/Desktop/stuff/repos/rossmann-store-sales/ross/lib/python3.13/site-packages/sklearn/utils/deprecation.py:132: FutureWarning: 'force_all_finite' was renamed to 'ensure_all_finite' in 1.6 and will be removed in 1.8.\n",
      "  warnings.warn(\n"
     ]
    },
    {
     "name": "stdout",
     "output_type": "stream",
     "text": [
      " ARIMA(3,0,1)(1,0,2)[7] intercept   : AIC=12512.060, Time=3.51 sec\n"
     ]
    },
    {
     "name": "stderr",
     "output_type": "stream",
     "text": [
      "/Users/narendersingh/Desktop/stuff/repos/rossmann-store-sales/ross/lib/python3.13/site-packages/sklearn/utils/deprecation.py:132: FutureWarning: 'force_all_finite' was renamed to 'ensure_all_finite' in 1.6 and will be removed in 1.8.\n",
      "  warnings.warn(\n"
     ]
    },
    {
     "name": "stdout",
     "output_type": "stream",
     "text": [
      " ARIMA(3,0,3)(1,0,2)[7] intercept   : AIC=12504.939, Time=4.27 sec\n"
     ]
    },
    {
     "name": "stderr",
     "output_type": "stream",
     "text": [
      "/Users/narendersingh/Desktop/stuff/repos/rossmann-store-sales/ross/lib/python3.13/site-packages/sklearn/utils/deprecation.py:132: FutureWarning: 'force_all_finite' was renamed to 'ensure_all_finite' in 1.6 and will be removed in 1.8.\n",
      "  warnings.warn(\n"
     ]
    },
    {
     "name": "stdout",
     "output_type": "stream",
     "text": [
      " ARIMA(3,0,3)(0,0,2)[7] intercept   : AIC=12493.863, Time=2.00 sec\n"
     ]
    },
    {
     "name": "stderr",
     "output_type": "stream",
     "text": [
      "/Users/narendersingh/Desktop/stuff/repos/rossmann-store-sales/ross/lib/python3.13/site-packages/sklearn/utils/deprecation.py:132: FutureWarning: 'force_all_finite' was renamed to 'ensure_all_finite' in 1.6 and will be removed in 1.8.\n",
      "  warnings.warn(\n"
     ]
    },
    {
     "name": "stdout",
     "output_type": "stream",
     "text": [
      " ARIMA(3,0,3)(0,0,1)[7] intercept   : AIC=12492.834, Time=0.93 sec\n"
     ]
    },
    {
     "name": "stderr",
     "output_type": "stream",
     "text": [
      "/Users/narendersingh/Desktop/stuff/repos/rossmann-store-sales/ross/lib/python3.13/site-packages/sklearn/utils/deprecation.py:132: FutureWarning: 'force_all_finite' was renamed to 'ensure_all_finite' in 1.6 and will be removed in 1.8.\n",
      "  warnings.warn(\n"
     ]
    },
    {
     "name": "stdout",
     "output_type": "stream",
     "text": [
      " ARIMA(3,0,3)(0,0,0)[7] intercept   : AIC=12500.789, Time=0.33 sec\n"
     ]
    },
    {
     "name": "stderr",
     "output_type": "stream",
     "text": [
      "/Users/narendersingh/Desktop/stuff/repos/rossmann-store-sales/ross/lib/python3.13/site-packages/sklearn/utils/deprecation.py:132: FutureWarning: 'force_all_finite' was renamed to 'ensure_all_finite' in 1.6 and will be removed in 1.8.\n",
      "  warnings.warn(\n"
     ]
    },
    {
     "name": "stdout",
     "output_type": "stream",
     "text": [
      " ARIMA(3,0,3)(1,0,1)[7] intercept   : AIC=12502.219, Time=2.16 sec\n"
     ]
    },
    {
     "name": "stderr",
     "output_type": "stream",
     "text": [
      "/Users/narendersingh/Desktop/stuff/repos/rossmann-store-sales/ross/lib/python3.13/site-packages/sklearn/utils/deprecation.py:132: FutureWarning: 'force_all_finite' was renamed to 'ensure_all_finite' in 1.6 and will be removed in 1.8.\n",
      "  warnings.warn(\n"
     ]
    },
    {
     "name": "stdout",
     "output_type": "stream",
     "text": [
      " ARIMA(3,0,3)(1,0,0)[7] intercept   : AIC=12529.693, Time=1.65 sec\n"
     ]
    },
    {
     "name": "stderr",
     "output_type": "stream",
     "text": [
      "/Users/narendersingh/Desktop/stuff/repos/rossmann-store-sales/ross/lib/python3.13/site-packages/sklearn/utils/deprecation.py:132: FutureWarning: 'force_all_finite' was renamed to 'ensure_all_finite' in 1.6 and will be removed in 1.8.\n",
      "  warnings.warn(\n"
     ]
    },
    {
     "name": "stdout",
     "output_type": "stream",
     "text": [
      " ARIMA(2,0,3)(0,0,1)[7] intercept   : AIC=12496.178, Time=0.48 sec\n"
     ]
    },
    {
     "name": "stderr",
     "output_type": "stream",
     "text": [
      "/Users/narendersingh/Desktop/stuff/repos/rossmann-store-sales/ross/lib/python3.13/site-packages/sklearn/utils/deprecation.py:132: FutureWarning: 'force_all_finite' was renamed to 'ensure_all_finite' in 1.6 and will be removed in 1.8.\n",
      "  warnings.warn(\n"
     ]
    },
    {
     "name": "stdout",
     "output_type": "stream",
     "text": [
      " ARIMA(3,0,2)(0,0,1)[7] intercept   : AIC=12513.060, Time=0.83 sec\n"
     ]
    },
    {
     "name": "stderr",
     "output_type": "stream",
     "text": [
      "/Users/narendersingh/Desktop/stuff/repos/rossmann-store-sales/ross/lib/python3.13/site-packages/sklearn/utils/deprecation.py:132: FutureWarning: 'force_all_finite' was renamed to 'ensure_all_finite' in 1.6 and will be removed in 1.8.\n",
      "  warnings.warn(\n"
     ]
    },
    {
     "name": "stdout",
     "output_type": "stream",
     "text": [
      " ARIMA(4,0,3)(0,0,1)[7] intercept   : AIC=12493.080, Time=1.83 sec\n"
     ]
    },
    {
     "name": "stderr",
     "output_type": "stream",
     "text": [
      "/Users/narendersingh/Desktop/stuff/repos/rossmann-store-sales/ross/lib/python3.13/site-packages/sklearn/utils/deprecation.py:132: FutureWarning: 'force_all_finite' was renamed to 'ensure_all_finite' in 1.6 and will be removed in 1.8.\n",
      "  warnings.warn(\n"
     ]
    },
    {
     "name": "stdout",
     "output_type": "stream",
     "text": [
      " ARIMA(3,0,4)(0,0,1)[7] intercept   : AIC=12484.787, Time=1.12 sec\n"
     ]
    },
    {
     "name": "stderr",
     "output_type": "stream",
     "text": [
      "/Users/narendersingh/Desktop/stuff/repos/rossmann-store-sales/ross/lib/python3.13/site-packages/sklearn/utils/deprecation.py:132: FutureWarning: 'force_all_finite' was renamed to 'ensure_all_finite' in 1.6 and will be removed in 1.8.\n",
      "  warnings.warn(\n"
     ]
    },
    {
     "name": "stdout",
     "output_type": "stream",
     "text": [
      " ARIMA(3,0,4)(0,0,0)[7] intercept   : AIC=12482.838, Time=0.56 sec\n"
     ]
    },
    {
     "name": "stderr",
     "output_type": "stream",
     "text": [
      "/Users/narendersingh/Desktop/stuff/repos/rossmann-store-sales/ross/lib/python3.13/site-packages/sklearn/utils/deprecation.py:132: FutureWarning: 'force_all_finite' was renamed to 'ensure_all_finite' in 1.6 and will be removed in 1.8.\n",
      "  warnings.warn(\n"
     ]
    },
    {
     "name": "stdout",
     "output_type": "stream",
     "text": [
      " ARIMA(3,0,4)(1,0,0)[7] intercept   : AIC=12475.736, Time=1.83 sec\n"
     ]
    },
    {
     "name": "stderr",
     "output_type": "stream",
     "text": [
      "/Users/narendersingh/Desktop/stuff/repos/rossmann-store-sales/ross/lib/python3.13/site-packages/sklearn/utils/deprecation.py:132: FutureWarning: 'force_all_finite' was renamed to 'ensure_all_finite' in 1.6 and will be removed in 1.8.\n",
      "  warnings.warn(\n"
     ]
    },
    {
     "name": "stdout",
     "output_type": "stream",
     "text": [
      " ARIMA(3,0,4)(2,0,0)[7] intercept   : AIC=12477.884, Time=4.20 sec\n"
     ]
    },
    {
     "name": "stderr",
     "output_type": "stream",
     "text": [
      "/Users/narendersingh/Desktop/stuff/repos/rossmann-store-sales/ross/lib/python3.13/site-packages/sklearn/utils/deprecation.py:132: FutureWarning: 'force_all_finite' was renamed to 'ensure_all_finite' in 1.6 and will be removed in 1.8.\n",
      "  warnings.warn(\n"
     ]
    },
    {
     "name": "stdout",
     "output_type": "stream",
     "text": [
      " ARIMA(3,0,4)(1,0,1)[7] intercept   : AIC=inf, Time=nan sec\n"
     ]
    },
    {
     "name": "stderr",
     "output_type": "stream",
     "text": [
      "/Users/narendersingh/Desktop/stuff/repos/rossmann-store-sales/ross/lib/python3.13/site-packages/sklearn/utils/deprecation.py:132: FutureWarning: 'force_all_finite' was renamed to 'ensure_all_finite' in 1.6 and will be removed in 1.8.\n",
      "  warnings.warn(\n"
     ]
    },
    {
     "name": "stdout",
     "output_type": "stream",
     "text": [
      " ARIMA(3,0,4)(2,0,1)[7] intercept   : AIC=inf, Time=4.91 sec\n"
     ]
    },
    {
     "name": "stderr",
     "output_type": "stream",
     "text": [
      "/Users/narendersingh/Desktop/stuff/repos/rossmann-store-sales/ross/lib/python3.13/site-packages/sklearn/utils/deprecation.py:132: FutureWarning: 'force_all_finite' was renamed to 'ensure_all_finite' in 1.6 and will be removed in 1.8.\n",
      "  warnings.warn(\n"
     ]
    },
    {
     "name": "stdout",
     "output_type": "stream",
     "text": [
      " ARIMA(2,0,4)(1,0,0)[7] intercept   : AIC=12500.830, Time=1.61 sec\n"
     ]
    },
    {
     "name": "stderr",
     "output_type": "stream",
     "text": [
      "/Users/narendersingh/Desktop/stuff/repos/rossmann-store-sales/ross/lib/python3.13/site-packages/sklearn/utils/deprecation.py:132: FutureWarning: 'force_all_finite' was renamed to 'ensure_all_finite' in 1.6 and will be removed in 1.8.\n",
      "  warnings.warn(\n"
     ]
    },
    {
     "name": "stdout",
     "output_type": "stream",
     "text": [
      " ARIMA(4,0,4)(1,0,0)[7] intercept   : AIC=12494.668, Time=2.32 sec\n"
     ]
    },
    {
     "name": "stderr",
     "output_type": "stream",
     "text": [
      "/Users/narendersingh/Desktop/stuff/repos/rossmann-store-sales/ross/lib/python3.13/site-packages/sklearn/utils/deprecation.py:132: FutureWarning: 'force_all_finite' was renamed to 'ensure_all_finite' in 1.6 and will be removed in 1.8.\n",
      "  warnings.warn(\n"
     ]
    },
    {
     "name": "stdout",
     "output_type": "stream",
     "text": [
      " ARIMA(3,0,5)(1,0,0)[7] intercept   : AIC=12480.647, Time=2.17 sec\n"
     ]
    },
    {
     "name": "stderr",
     "output_type": "stream",
     "text": [
      "/Users/narendersingh/Desktop/stuff/repos/rossmann-store-sales/ross/lib/python3.13/site-packages/sklearn/utils/deprecation.py:132: FutureWarning: 'force_all_finite' was renamed to 'ensure_all_finite' in 1.6 and will be removed in 1.8.\n",
      "  warnings.warn(\n"
     ]
    },
    {
     "name": "stdout",
     "output_type": "stream",
     "text": [
      " ARIMA(2,0,3)(1,0,0)[7] intercept   : AIC=12540.715, Time=1.49 sec\n"
     ]
    },
    {
     "name": "stderr",
     "output_type": "stream",
     "text": [
      "/Users/narendersingh/Desktop/stuff/repos/rossmann-store-sales/ross/lib/python3.13/site-packages/sklearn/utils/deprecation.py:132: FutureWarning: 'force_all_finite' was renamed to 'ensure_all_finite' in 1.6 and will be removed in 1.8.\n",
      "  warnings.warn(\n"
     ]
    },
    {
     "name": "stdout",
     "output_type": "stream",
     "text": [
      " ARIMA(2,0,5)(1,0,0)[7] intercept   : AIC=12480.406, Time=1.84 sec\n"
     ]
    },
    {
     "name": "stderr",
     "output_type": "stream",
     "text": [
      "/Users/narendersingh/Desktop/stuff/repos/rossmann-store-sales/ross/lib/python3.13/site-packages/sklearn/utils/deprecation.py:132: FutureWarning: 'force_all_finite' was renamed to 'ensure_all_finite' in 1.6 and will be removed in 1.8.\n",
      "  warnings.warn(\n"
     ]
    },
    {
     "name": "stdout",
     "output_type": "stream",
     "text": [
      " ARIMA(4,0,3)(1,0,0)[7] intercept   : AIC=12518.024, Time=2.38 sec\n"
     ]
    },
    {
     "name": "stderr",
     "output_type": "stream",
     "text": [
      "/Users/narendersingh/Desktop/stuff/repos/rossmann-store-sales/ross/lib/python3.13/site-packages/sklearn/utils/deprecation.py:132: FutureWarning: 'force_all_finite' was renamed to 'ensure_all_finite' in 1.6 and will be removed in 1.8.\n",
      "  warnings.warn(\n"
     ]
    },
    {
     "name": "stdout",
     "output_type": "stream",
     "text": [
      " ARIMA(4,0,5)(1,0,0)[7] intercept   : AIC=12495.653, Time=2.47 sec\n"
     ]
    },
    {
     "name": "stderr",
     "output_type": "stream",
     "text": [
      "/Users/narendersingh/Desktop/stuff/repos/rossmann-store-sales/ross/lib/python3.13/site-packages/sklearn/utils/deprecation.py:132: FutureWarning: 'force_all_finite' was renamed to 'ensure_all_finite' in 1.6 and will be removed in 1.8.\n",
      "  warnings.warn(\n"
     ]
    },
    {
     "name": "stdout",
     "output_type": "stream",
     "text": [
      " ARIMA(3,0,4)(1,0,0)[7]             : AIC=12780.224, Time=1.42 sec\n",
      "\n",
      "Best model:  ARIMA(3,0,4)(1,0,0)[7] intercept\n",
      "Total fit time: 87.618 seconds\n",
      "                                     SARIMAX Results                                      \n",
      "==========================================================================================\n",
      "Dep. Variable:                                  y   No. Observations:                  781\n",
      "Model:             SARIMAX(3, 0, 4)x(1, 0, [], 7)   Log Likelihood               -6227.868\n",
      "Date:                            Wed, 22 Oct 2025   AIC                          12475.736\n",
      "Time:                                    01:05:10   BIC                          12522.342\n",
      "Sample:                                         0   HQIC                         12493.660\n",
      "                                            - 781                                         \n",
      "Covariance Type:                              opg                                         \n",
      "==============================================================================\n",
      "                 coef    std err          z      P>|z|      [0.025      0.975]\n",
      "------------------------------------------------------------------------------\n",
      "intercept   1356.7617    104.891     12.935      0.000    1151.179    1562.344\n",
      "ar.L1          0.8826      0.053     16.531      0.000       0.778       0.987\n",
      "ar.L2          0.4016      0.087      4.611      0.000       0.231       0.572\n",
      "ar.L3         -0.6733      0.051    -13.307      0.000      -0.772      -0.574\n",
      "ma.L1         -0.1692      0.061     -2.762      0.006      -0.289      -0.049\n",
      "ma.L2         -0.4719      0.067     -7.046      0.000      -0.603      -0.341\n",
      "ma.L3          0.1782      0.040      4.445      0.000       0.100       0.257\n",
      "ma.L4          0.3832      0.040      9.550      0.000       0.305       0.462\n",
      "ar.S.L7        0.2533      0.037      6.918      0.000       0.182       0.325\n",
      "sigma2      4.985e+05   2.02e+04     24.708      0.000    4.59e+05    5.38e+05\n",
      "===================================================================================\n",
      "Ljung-Box (L1) (Q):                   0.57   Jarque-Bera (JB):               359.86\n",
      "Prob(Q):                              0.45   Prob(JB):                         0.00\n",
      "Heteroskedasticity (H):               1.14   Skew:                             0.10\n",
      "Prob(H) (two-sided):                  0.31   Kurtosis:                         6.32\n",
      "===================================================================================\n",
      "\n",
      "Warnings:\n",
      "[1] Covariance matrix calculated using the outer product of gradients (complex-step).\n"
     ]
    }
   ],
   "source": [
    "from pmdarima import auto_arima\n",
    "\n",
    "# --- Find the best SARIMAX model ---\n",
    "# This will search for the best (p,d,q)(P,D,Q,m) orders\n",
    "# m=7 tells it to look for a 7-day (weekly) seasonal cycle\n",
    "# trace=True will print out the results of each model it tries\n",
    "\n",
    "print(\"Starting model search... (This may take a few minutes)\")\n",
    "\n",
    "# We use 'X' here, which in pmdarima is called 'exogenous'\n",
    "auto_model = auto_arima(\n",
    "    y,                      # Our 'Sales' data\n",
    "    exogenous=X,            # Our 'Promo' and 'SchoolHoliday' data\n",
    "    m=7,                    # The 7-day weekly cycle\n",
    "    seasonal=True,          # We MUST have a seasonal component\n",
    "    stepwise=True,          # This speeds up the search\n",
    "    suppress_warnings=True, # Ignore warnings\n",
    "    trace=True,             # Print out the results as it works\n",
    "    error_action='ignore'   # Skip models that fail\n",
    ")\n",
    "\n",
    "# Print the final summary of the best model\n",
    "print(auto_model.summary())"
   ]
  },
  {
   "cell_type": "code",
   "execution_count": 7,
   "id": "3c978dee",
   "metadata": {},
   "outputs": [
    {
     "name": "stdout",
     "output_type": "stream",
     "text": [
      "Training data size: 751 points\n",
      "Test data size:     30 points\n"
     ]
    }
   ],
   "source": [
    "# --- 11. Train/Test Split ---\n",
    "# For time series, we MUST split by date. We can't shuffle.\n",
    "# We'll use the last 30 open days as our test set.\n",
    "test_period = 30\n",
    "train_size = len(y) - test_period\n",
    "\n",
    "# Split our y (target) and X (features)\n",
    "y_train = y.iloc[:train_size]\n",
    "y_test = y.iloc[train_size:]\n",
    "\n",
    "X_train = X.iloc[:train_size]\n",
    "X_test = X.iloc[train_size:]\n",
    "\n",
    "print(f\"Training data size: {len(y_train)} points\")\n",
    "print(f\"Test data size:     {len(y_test)} points\")"
   ]
  },
  {
   "cell_type": "code",
   "execution_count": 8,
   "id": "3a50498e",
   "metadata": {},
   "outputs": [
    {
     "name": "stderr",
     "output_type": "stream",
     "text": [
      "/Users/narendersingh/Desktop/stuff/repos/rossmann-store-sales/ross/lib/python3.13/site-packages/statsmodels/tsa/base/tsa_model.py:473: ValueWarning: A date index has been provided, but it has no associated frequency information and so will be ignored when e.g. forecasting.\n",
      "  self._init_dates(dates, freq)\n",
      "/Users/narendersingh/Desktop/stuff/repos/rossmann-store-sales/ross/lib/python3.13/site-packages/statsmodels/tsa/base/tsa_model.py:473: ValueWarning: A date index has been provided, but it has no associated frequency information and so will be ignored when e.g. forecasting.\n",
      "  self._init_dates(dates, freq)\n",
      "/Users/narendersingh/Desktop/stuff/repos/rossmann-store-sales/ross/lib/python3.13/site-packages/statsmodels/tsa/statespace/sarimax.py:966: UserWarning: Non-stationary starting autoregressive parameters found. Using zeros as starting parameters.\n",
      "  warn('Non-stationary starting autoregressive parameters'\n"
     ]
    },
    {
     "name": "stdout",
     "output_type": "stream",
     "text": [
      "Training the final model...\n",
      "Model training complete.\n",
      "                                     SARIMAX Results                                      \n",
      "==========================================================================================\n",
      "Dep. Variable:                              Sales   No. Observations:                  751\n",
      "Model:             SARIMAX(3, 0, 4)x(1, 0, [], 7)   Log Likelihood               -6700.514\n",
      "Date:                            Wed, 22 Oct 2025   AIC                          13423.028\n",
      "Time:                                    01:09:41   BIC                          13473.864\n",
      "Sample:                                         0   HQIC                         13442.615\n",
      "                                            - 751                                         \n",
      "Covariance Type:                              opg                                         \n",
      "=================================================================================\n",
      "                    coef    std err          z      P>|z|      [0.025      0.975]\n",
      "---------------------------------------------------------------------------------\n",
      "Promo          4755.5592    150.918     31.511      0.000    4459.765    5051.354\n",
      "SchoolHoliday  2602.8989    220.341     11.813      0.000    2171.039    3034.759\n",
      "ar.L1             0.5404      0.171      3.165      0.002       0.206       0.875\n",
      "ar.L2             0.9547      0.035     27.127      0.000       0.886       1.024\n",
      "ar.L3            -0.4963      0.157     -3.164      0.002      -0.804      -0.189\n",
      "ma.L1             0.1543      0.181      0.852      0.394      -0.201       0.509\n",
      "ma.L2            -0.9716      0.127     -7.674      0.000      -1.220      -0.723\n",
      "ma.L3            -0.1791      0.154     -1.160      0.246      -0.482       0.124\n",
      "ma.L4             0.0576      0.126      0.458      0.647      -0.189       0.305\n",
      "ar.S.L7          -0.1880      0.045     -4.210      0.000      -0.276      -0.100\n",
      "sigma2         3.577e+06      0.077   4.67e+07      0.000    3.58e+06    3.58e+06\n",
      "===================================================================================\n",
      "Ljung-Box (L1) (Q):                   0.10   Jarque-Bera (JB):                56.49\n",
      "Prob(Q):                              0.75   Prob(JB):                         0.00\n",
      "Heteroskedasticity (H):               1.13   Skew:                             0.47\n",
      "Prob(H) (two-sided):                  0.34   Kurtosis:                         3.95\n",
      "===================================================================================\n",
      "\n",
      "Warnings:\n",
      "[1] Covariance matrix calculated using the outer product of gradients (complex-step).\n",
      "[2] Covariance matrix is singular or near-singular, with condition number 1.64e+22. Standard errors may be unstable.\n"
     ]
    },
    {
     "name": "stderr",
     "output_type": "stream",
     "text": [
      "/Users/narendersingh/Desktop/stuff/repos/rossmann-store-sales/ross/lib/python3.13/site-packages/statsmodels/base/model.py:607: ConvergenceWarning: Maximum Likelihood optimization failed to converge. Check mle_retvals\n",
      "  warnings.warn(\"Maximum Likelihood optimization failed to \"\n"
     ]
    }
   ],
   "source": [
    "import statsmodels.api as sm\n",
    "\n",
    "# --- 12. Train the Final Model ---\n",
    "# We use the 'best' orders found by auto_arima\n",
    "# Best model:  ARIMA(3,0,4)(1,0,0)[7]\n",
    "\n",
    "# Define the model orders\n",
    "my_order = (3, 0, 4)           # (p, d, q)\n",
    "my_seasonal_order = (1, 0, 0, 7) # (P, D, Q, m)\n",
    "\n",
    "# Create the SARIMAX model\n",
    "final_model = sm.tsa.SARIMAX(\n",
    "    endog=y_train,        # The 'y' (target) training data\n",
    "    exog=X_train,         # The 'X' (helper) training data\n",
    "    order=my_order,\n",
    "    seasonal_order=my_seasonal_order\n",
    ")\n",
    "\n",
    "# Fit (train) the model\n",
    "# This may take 30-60 seconds\n",
    "print(\"Training the final model...\")\n",
    "model_fit = final_model.fit(disp=False) # disp=False hides the long convergence log\n",
    "print(\"Model training complete.\")\n",
    "\n",
    "# Print the model summary\n",
    "print(model_fit.summary())"
   ]
  },
  {
   "cell_type": "code",
   "execution_count": 9,
   "id": "2e094975",
   "metadata": {},
   "outputs": [
    {
     "name": "stdout",
     "output_type": "stream",
     "text": [
      "Starting a *simpler* model search...\n",
      "Performing stepwise search to minimize aic\n"
     ]
    },
    {
     "name": "stderr",
     "output_type": "stream",
     "text": [
      "/Users/narendersingh/Desktop/stuff/repos/rossmann-store-sales/ross/lib/python3.13/site-packages/sklearn/utils/deprecation.py:132: FutureWarning: 'force_all_finite' was renamed to 'ensure_all_finite' in 1.6 and will be removed in 1.8.\n",
      "  warnings.warn(\n",
      "/Users/narendersingh/Desktop/stuff/repos/rossmann-store-sales/ross/lib/python3.13/site-packages/sklearn/utils/deprecation.py:132: FutureWarning: 'force_all_finite' was renamed to 'ensure_all_finite' in 1.6 and will be removed in 1.8.\n",
      "  warnings.warn(\n",
      "/Users/narendersingh/Desktop/stuff/repos/rossmann-store-sales/ross/lib/python3.13/site-packages/sklearn/utils/deprecation.py:132: FutureWarning: 'force_all_finite' was renamed to 'ensure_all_finite' in 1.6 and will be removed in 1.8.\n",
      "  warnings.warn(\n",
      "/Users/narendersingh/Desktop/stuff/repos/rossmann-store-sales/ross/lib/python3.13/site-packages/sklearn/utils/deprecation.py:132: FutureWarning: 'force_all_finite' was renamed to 'ensure_all_finite' in 1.6 and will be removed in 1.8.\n",
      "  warnings.warn(\n",
      "/Users/narendersingh/Desktop/stuff/repos/rossmann-store-sales/ross/lib/python3.13/site-packages/sklearn/utils/deprecation.py:132: FutureWarning: 'force_all_finite' was renamed to 'ensure_all_finite' in 1.6 and will be removed in 1.8.\n",
      "  warnings.warn(\n",
      "/Users/narendersingh/Desktop/stuff/repos/rossmann-store-sales/ross/lib/python3.13/site-packages/sklearn/utils/deprecation.py:132: FutureWarning: 'force_all_finite' was renamed to 'ensure_all_finite' in 1.6 and will be removed in 1.8.\n",
      "  warnings.warn(\n",
      "/Users/narendersingh/Desktop/stuff/repos/rossmann-store-sales/ross/lib/python3.13/site-packages/sklearn/utils/deprecation.py:132: FutureWarning: 'force_all_finite' was renamed to 'ensure_all_finite' in 1.6 and will be removed in 1.8.\n",
      "  warnings.warn(\n",
      "/Users/narendersingh/Desktop/stuff/repos/rossmann-store-sales/ross/lib/python3.13/site-packages/sklearn/utils/deprecation.py:132: FutureWarning: 'force_all_finite' was renamed to 'ensure_all_finite' in 1.6 and will be removed in 1.8.\n",
      "  warnings.warn(\n"
     ]
    },
    {
     "name": "stdout",
     "output_type": "stream",
     "text": [
      " ARIMA(2,0,2)(1,0,1)[7] intercept   : AIC=12508.185, Time=1.53 sec\n",
      " ARIMA(0,0,0)(0,0,0)[7] intercept   : AIC=13028.092, Time=0.02 sec\n"
     ]
    },
    {
     "name": "stderr",
     "output_type": "stream",
     "text": [
      "/Users/narendersingh/Desktop/stuff/repos/rossmann-store-sales/ross/lib/python3.13/site-packages/sklearn/utils/deprecation.py:132: FutureWarning: 'force_all_finite' was renamed to 'ensure_all_finite' in 1.6 and will be removed in 1.8.\n",
      "  warnings.warn(\n",
      "/Users/narendersingh/Desktop/stuff/repos/rossmann-store-sales/ross/lib/python3.13/site-packages/sklearn/utils/deprecation.py:132: FutureWarning: 'force_all_finite' was renamed to 'ensure_all_finite' in 1.6 and will be removed in 1.8.\n",
      "  warnings.warn(\n"
     ]
    },
    {
     "name": "stdout",
     "output_type": "stream",
     "text": [
      " ARIMA(1,0,0)(1,0,0)[7] intercept   : AIC=12534.836, Time=0.27 sec\n"
     ]
    },
    {
     "name": "stderr",
     "output_type": "stream",
     "text": [
      "/Users/narendersingh/Desktop/stuff/repos/rossmann-store-sales/ross/lib/python3.13/site-packages/sklearn/utils/deprecation.py:132: FutureWarning: 'force_all_finite' was renamed to 'ensure_all_finite' in 1.6 and will be removed in 1.8.\n",
      "  warnings.warn(\n"
     ]
    },
    {
     "name": "stdout",
     "output_type": "stream",
     "text": [
      " ARIMA(0,0,1)(0,0,1)[7] intercept   : AIC=12731.233, Time=0.33 sec\n",
      " ARIMA(0,0,0)(0,0,0)[7]             : AIC=15479.610, Time=0.01 sec\n"
     ]
    },
    {
     "name": "stderr",
     "output_type": "stream",
     "text": [
      "/Users/narendersingh/Desktop/stuff/repos/rossmann-store-sales/ross/lib/python3.13/site-packages/sklearn/utils/deprecation.py:132: FutureWarning: 'force_all_finite' was renamed to 'ensure_all_finite' in 1.6 and will be removed in 1.8.\n",
      "  warnings.warn(\n",
      "/Users/narendersingh/Desktop/stuff/repos/rossmann-store-sales/ross/lib/python3.13/site-packages/sklearn/utils/deprecation.py:132: FutureWarning: 'force_all_finite' was renamed to 'ensure_all_finite' in 1.6 and will be removed in 1.8.\n",
      "  warnings.warn(\n"
     ]
    },
    {
     "name": "stdout",
     "output_type": "stream",
     "text": [
      " ARIMA(2,0,2)(0,0,1)[7] intercept   : AIC=12522.839, Time=0.58 sec\n"
     ]
    },
    {
     "name": "stderr",
     "output_type": "stream",
     "text": [
      "/Users/narendersingh/Desktop/stuff/repos/rossmann-store-sales/ross/lib/python3.13/site-packages/sklearn/utils/deprecation.py:132: FutureWarning: 'force_all_finite' was renamed to 'ensure_all_finite' in 1.6 and will be removed in 1.8.\n",
      "  warnings.warn(\n"
     ]
    },
    {
     "name": "stdout",
     "output_type": "stream",
     "text": [
      " ARIMA(2,0,2)(1,0,0)[7] intercept   : AIC=12524.727, Time=1.34 sec\n"
     ]
    },
    {
     "name": "stderr",
     "output_type": "stream",
     "text": [
      "/Users/narendersingh/Desktop/stuff/repos/rossmann-store-sales/ross/lib/python3.13/site-packages/sklearn/utils/deprecation.py:132: FutureWarning: 'force_all_finite' was renamed to 'ensure_all_finite' in 1.6 and will be removed in 1.8.\n",
      "  warnings.warn(\n"
     ]
    },
    {
     "name": "stdout",
     "output_type": "stream",
     "text": [
      " ARIMA(2,0,2)(2,0,1)[7] intercept   : AIC=12505.138, Time=3.17 sec\n"
     ]
    },
    {
     "name": "stderr",
     "output_type": "stream",
     "text": [
      "/Users/narendersingh/Desktop/stuff/repos/rossmann-store-sales/ross/lib/python3.13/site-packages/sklearn/utils/deprecation.py:132: FutureWarning: 'force_all_finite' was renamed to 'ensure_all_finite' in 1.6 and will be removed in 1.8.\n",
      "  warnings.warn(\n"
     ]
    },
    {
     "name": "stdout",
     "output_type": "stream",
     "text": [
      " ARIMA(2,0,2)(2,0,0)[7] intercept   : AIC=12526.617, Time=2.20 sec\n"
     ]
    },
    {
     "name": "stderr",
     "output_type": "stream",
     "text": [
      "/Users/narendersingh/Desktop/stuff/repos/rossmann-store-sales/ross/lib/python3.13/site-packages/sklearn/utils/deprecation.py:132: FutureWarning: 'force_all_finite' was renamed to 'ensure_all_finite' in 1.6 and will be removed in 1.8.\n",
      "  warnings.warn(\n"
     ]
    },
    {
     "name": "stdout",
     "output_type": "stream",
     "text": [
      " ARIMA(2,0,2)(2,0,2)[7] intercept   : AIC=12507.197, Time=4.14 sec\n"
     ]
    },
    {
     "name": "stderr",
     "output_type": "stream",
     "text": [
      "/Users/narendersingh/Desktop/stuff/repos/rossmann-store-sales/ross/lib/python3.13/site-packages/sklearn/utils/deprecation.py:132: FutureWarning: 'force_all_finite' was renamed to 'ensure_all_finite' in 1.6 and will be removed in 1.8.\n",
      "  warnings.warn(\n"
     ]
    },
    {
     "name": "stdout",
     "output_type": "stream",
     "text": [
      " ARIMA(2,0,2)(1,0,2)[7] intercept   : AIC=12505.118, Time=3.29 sec\n"
     ]
    },
    {
     "name": "stderr",
     "output_type": "stream",
     "text": [
      "/Users/narendersingh/Desktop/stuff/repos/rossmann-store-sales/ross/lib/python3.13/site-packages/sklearn/utils/deprecation.py:132: FutureWarning: 'force_all_finite' was renamed to 'ensure_all_finite' in 1.6 and will be removed in 1.8.\n",
      "  warnings.warn(\n"
     ]
    },
    {
     "name": "stdout",
     "output_type": "stream",
     "text": [
      " ARIMA(2,0,2)(0,0,2)[7] intercept   : AIC=12524.536, Time=1.47 sec\n"
     ]
    },
    {
     "name": "stderr",
     "output_type": "stream",
     "text": [
      "/Users/narendersingh/Desktop/stuff/repos/rossmann-store-sales/ross/lib/python3.13/site-packages/sklearn/utils/deprecation.py:132: FutureWarning: 'force_all_finite' was renamed to 'ensure_all_finite' in 1.6 and will be removed in 1.8.\n",
      "  warnings.warn(\n"
     ]
    },
    {
     "name": "stdout",
     "output_type": "stream",
     "text": [
      " ARIMA(1,0,2)(1,0,2)[7] intercept   : AIC=12543.737, Time=3.20 sec\n"
     ]
    },
    {
     "name": "stderr",
     "output_type": "stream",
     "text": [
      "/Users/narendersingh/Desktop/stuff/repos/rossmann-store-sales/ross/lib/python3.13/site-packages/sklearn/utils/deprecation.py:132: FutureWarning: 'force_all_finite' was renamed to 'ensure_all_finite' in 1.6 and will be removed in 1.8.\n",
      "  warnings.warn(\n"
     ]
    },
    {
     "name": "stdout",
     "output_type": "stream",
     "text": [
      " ARIMA(2,0,1)(1,0,2)[7] intercept   : AIC=12523.617, Time=3.10 sec\n"
     ]
    },
    {
     "name": "stderr",
     "output_type": "stream",
     "text": [
      "/Users/narendersingh/Desktop/stuff/repos/rossmann-store-sales/ross/lib/python3.13/site-packages/sklearn/utils/deprecation.py:132: FutureWarning: 'force_all_finite' was renamed to 'ensure_all_finite' in 1.6 and will be removed in 1.8.\n",
      "  warnings.warn(\n"
     ]
    },
    {
     "name": "stdout",
     "output_type": "stream",
     "text": [
      " ARIMA(3,0,2)(1,0,2)[7] intercept   : AIC=12507.221, Time=4.68 sec\n"
     ]
    },
    {
     "name": "stderr",
     "output_type": "stream",
     "text": [
      "/Users/narendersingh/Desktop/stuff/repos/rossmann-store-sales/ross/lib/python3.13/site-packages/sklearn/utils/deprecation.py:132: FutureWarning: 'force_all_finite' was renamed to 'ensure_all_finite' in 1.6 and will be removed in 1.8.\n",
      "  warnings.warn(\n"
     ]
    },
    {
     "name": "stdout",
     "output_type": "stream",
     "text": [
      " ARIMA(2,0,3)(1,0,2)[7] intercept   : AIC=12516.487, Time=4.98 sec\n"
     ]
    },
    {
     "name": "stderr",
     "output_type": "stream",
     "text": [
      "/Users/narendersingh/Desktop/stuff/repos/rossmann-store-sales/ross/lib/python3.13/site-packages/sklearn/utils/deprecation.py:132: FutureWarning: 'force_all_finite' was renamed to 'ensure_all_finite' in 1.6 and will be removed in 1.8.\n",
      "  warnings.warn(\n"
     ]
    },
    {
     "name": "stdout",
     "output_type": "stream",
     "text": [
      " ARIMA(1,0,1)(1,0,2)[7] intercept   : AIC=12538.729, Time=2.31 sec\n"
     ]
    },
    {
     "name": "stderr",
     "output_type": "stream",
     "text": [
      "/Users/narendersingh/Desktop/stuff/repos/rossmann-store-sales/ross/lib/python3.13/site-packages/sklearn/utils/deprecation.py:132: FutureWarning: 'force_all_finite' was renamed to 'ensure_all_finite' in 1.6 and will be removed in 1.8.\n",
      "  warnings.warn(\n"
     ]
    },
    {
     "name": "stdout",
     "output_type": "stream",
     "text": [
      " ARIMA(1,0,3)(1,0,2)[7] intercept   : AIC=12541.870, Time=3.78 sec\n"
     ]
    },
    {
     "name": "stderr",
     "output_type": "stream",
     "text": [
      "/Users/narendersingh/Desktop/stuff/repos/rossmann-store-sales/ross/lib/python3.13/site-packages/sklearn/utils/deprecation.py:132: FutureWarning: 'force_all_finite' was renamed to 'ensure_all_finite' in 1.6 and will be removed in 1.8.\n",
      "  warnings.warn(\n"
     ]
    },
    {
     "name": "stdout",
     "output_type": "stream",
     "text": [
      " ARIMA(3,0,1)(1,0,2)[7] intercept   : AIC=12512.060, Time=3.54 sec\n"
     ]
    },
    {
     "name": "stderr",
     "output_type": "stream",
     "text": [
      "/Users/narendersingh/Desktop/stuff/repos/rossmann-store-sales/ross/lib/python3.13/site-packages/sklearn/utils/deprecation.py:132: FutureWarning: 'force_all_finite' was renamed to 'ensure_all_finite' in 1.6 and will be removed in 1.8.\n",
      "  warnings.warn(\n"
     ]
    },
    {
     "name": "stdout",
     "output_type": "stream",
     "text": [
      " ARIMA(3,0,3)(1,0,2)[7] intercept   : AIC=12504.939, Time=4.28 sec\n"
     ]
    },
    {
     "name": "stderr",
     "output_type": "stream",
     "text": [
      "/Users/narendersingh/Desktop/stuff/repos/rossmann-store-sales/ross/lib/python3.13/site-packages/sklearn/utils/deprecation.py:132: FutureWarning: 'force_all_finite' was renamed to 'ensure_all_finite' in 1.6 and will be removed in 1.8.\n",
      "  warnings.warn(\n"
     ]
    },
    {
     "name": "stdout",
     "output_type": "stream",
     "text": [
      " ARIMA(3,0,3)(0,0,2)[7] intercept   : AIC=12493.863, Time=2.01 sec\n"
     ]
    },
    {
     "name": "stderr",
     "output_type": "stream",
     "text": [
      "/Users/narendersingh/Desktop/stuff/repos/rossmann-store-sales/ross/lib/python3.13/site-packages/sklearn/utils/deprecation.py:132: FutureWarning: 'force_all_finite' was renamed to 'ensure_all_finite' in 1.6 and will be removed in 1.8.\n",
      "  warnings.warn(\n"
     ]
    },
    {
     "name": "stdout",
     "output_type": "stream",
     "text": [
      " ARIMA(3,0,3)(0,0,1)[7] intercept   : AIC=12492.834, Time=0.97 sec\n"
     ]
    },
    {
     "name": "stderr",
     "output_type": "stream",
     "text": [
      "/Users/narendersingh/Desktop/stuff/repos/rossmann-store-sales/ross/lib/python3.13/site-packages/sklearn/utils/deprecation.py:132: FutureWarning: 'force_all_finite' was renamed to 'ensure_all_finite' in 1.6 and will be removed in 1.8.\n",
      "  warnings.warn(\n"
     ]
    },
    {
     "name": "stdout",
     "output_type": "stream",
     "text": [
      " ARIMA(3,0,3)(0,0,0)[7] intercept   : AIC=12500.789, Time=0.33 sec\n"
     ]
    },
    {
     "name": "stderr",
     "output_type": "stream",
     "text": [
      "/Users/narendersingh/Desktop/stuff/repos/rossmann-store-sales/ross/lib/python3.13/site-packages/sklearn/utils/deprecation.py:132: FutureWarning: 'force_all_finite' was renamed to 'ensure_all_finite' in 1.6 and will be removed in 1.8.\n",
      "  warnings.warn(\n"
     ]
    },
    {
     "name": "stdout",
     "output_type": "stream",
     "text": [
      " ARIMA(3,0,3)(1,0,1)[7] intercept   : AIC=12502.219, Time=2.11 sec\n"
     ]
    },
    {
     "name": "stderr",
     "output_type": "stream",
     "text": [
      "/Users/narendersingh/Desktop/stuff/repos/rossmann-store-sales/ross/lib/python3.13/site-packages/sklearn/utils/deprecation.py:132: FutureWarning: 'force_all_finite' was renamed to 'ensure_all_finite' in 1.6 and will be removed in 1.8.\n",
      "  warnings.warn(\n"
     ]
    },
    {
     "name": "stdout",
     "output_type": "stream",
     "text": [
      " ARIMA(3,0,3)(1,0,0)[7] intercept   : AIC=12529.693, Time=1.66 sec\n"
     ]
    },
    {
     "name": "stderr",
     "output_type": "stream",
     "text": [
      "/Users/narendersingh/Desktop/stuff/repos/rossmann-store-sales/ross/lib/python3.13/site-packages/sklearn/utils/deprecation.py:132: FutureWarning: 'force_all_finite' was renamed to 'ensure_all_finite' in 1.6 and will be removed in 1.8.\n",
      "  warnings.warn(\n"
     ]
    },
    {
     "name": "stdout",
     "output_type": "stream",
     "text": [
      " ARIMA(2,0,3)(0,0,1)[7] intercept   : AIC=12496.178, Time=0.50 sec\n"
     ]
    },
    {
     "name": "stderr",
     "output_type": "stream",
     "text": [
      "/Users/narendersingh/Desktop/stuff/repos/rossmann-store-sales/ross/lib/python3.13/site-packages/sklearn/utils/deprecation.py:132: FutureWarning: 'force_all_finite' was renamed to 'ensure_all_finite' in 1.6 and will be removed in 1.8.\n",
      "  warnings.warn(\n"
     ]
    },
    {
     "name": "stdout",
     "output_type": "stream",
     "text": [
      " ARIMA(3,0,2)(0,0,1)[7] intercept   : AIC=12513.060, Time=0.83 sec\n"
     ]
    },
    {
     "name": "stderr",
     "output_type": "stream",
     "text": [
      "/Users/narendersingh/Desktop/stuff/repos/rossmann-store-sales/ross/lib/python3.13/site-packages/sklearn/utils/deprecation.py:132: FutureWarning: 'force_all_finite' was renamed to 'ensure_all_finite' in 1.6 and will be removed in 1.8.\n",
      "  warnings.warn(\n"
     ]
    },
    {
     "name": "stdout",
     "output_type": "stream",
     "text": [
      " ARIMA(3,0,3)(0,0,1)[7]             : AIC=12512.043, Time=1.15 sec\n",
      "\n",
      "Best model:  ARIMA(3,0,3)(0,0,1)[7] intercept\n",
      "Total fit time: 57.826 seconds\n",
      "                                      SARIMAX Results                                      \n",
      "===========================================================================================\n",
      "Dep. Variable:                                   y   No. Observations:                  781\n",
      "Model:             SARIMAX(3, 0, 3)x(0, 0, [1], 7)   Log Likelihood               -6237.417\n",
      "Date:                             Wed, 22 Oct 2025   AIC                          12492.834\n",
      "Time:                                     01:12:53   BIC                          12534.779\n",
      "Sample:                                          0   HQIC                         12508.966\n",
      "                                             - 781                                         \n",
      "Covariance Type:                               opg                                         \n",
      "==============================================================================\n",
      "                 coef    std err          z      P>|z|      [0.025      0.975]\n",
      "------------------------------------------------------------------------------\n",
      "intercept   1692.6483    526.338      3.216      0.001     661.044    2724.253\n",
      "ar.L1          0.0135      0.157      0.086      0.932      -0.295       0.322\n",
      "ar.L2          0.3457      0.076      4.548      0.000       0.197       0.495\n",
      "ar.L3          0.2843      0.096      2.960      0.003       0.096       0.473\n",
      "ma.L1          0.7057      0.156      4.510      0.000       0.399       1.012\n",
      "ma.L2          0.1777      0.152      1.173      0.241      -0.119       0.475\n",
      "ma.L3         -0.3190      0.068     -4.673      0.000      -0.453      -0.185\n",
      "ma.S.L7       -0.1812      0.040     -4.570      0.000      -0.259      -0.103\n",
      "sigma2      5.125e+05   2.02e+04     25.344      0.000    4.73e+05    5.52e+05\n",
      "===================================================================================\n",
      "Ljung-Box (L1) (Q):                   0.00   Jarque-Bera (JB):               337.74\n",
      "Prob(Q):                              0.95   Prob(JB):                         0.00\n",
      "Heteroskedasticity (H):               1.16   Skew:                             0.24\n",
      "Prob(H) (two-sided):                  0.24   Kurtosis:                         6.19\n",
      "===================================================================================\n",
      "\n",
      "Warnings:\n",
      "[1] Covariance matrix calculated using the outer product of gradients (complex-step).\n"
     ]
    }
   ],
   "source": [
    "# --- 13. Re-run auto_arima to find a STABLE model ---\n",
    "# Our last model was too complex and failed to converge.\n",
    "# Let's find a simpler one by limiting the 'p' and 'q' values.\n",
    "# We set max_p=3 and max_q=3 to limit the complexity.\n",
    "\n",
    "print(\"Starting a *simpler* model search...\")\n",
    "\n",
    "auto_model_simple = auto_arima(\n",
    "    y,\n",
    "    exogenous=X,\n",
    "    m=7,\n",
    "    seasonal=True,\n",
    "    stepwise=True,\n",
    "    suppress_warnings=True,\n",
    "    trace=True,\n",
    "    error_action='ignore',\n",
    "    \n",
    "    # --- This is the new, important part ---\n",
    "    max_p=3,  # Don't try 'p' values higher than 3\n",
    "    max_q=3,  # Don't try 'q' values higher than 3\n",
    "    max_P=2,  # Don't try 'P' values higher than 2\n",
    "    max_Q=2   # Don't try 'Q' values higher than 2\n",
    ")\n",
    "\n",
    "# Print the new best model\n",
    "print(auto_model_simple.summary())"
   ]
  },
  {
   "cell_type": "code",
   "execution_count": 10,
   "id": "479b2f17",
   "metadata": {},
   "outputs": [
    {
     "name": "stderr",
     "output_type": "stream",
     "text": [
      "/Users/narendersingh/Desktop/stuff/repos/rossmann-store-sales/ross/lib/python3.13/site-packages/statsmodels/tsa/base/tsa_model.py:473: ValueWarning: A date index has been provided, but it has no associated frequency information and so will be ignored when e.g. forecasting.\n",
      "  self._init_dates(dates, freq)\n",
      "/Users/narendersingh/Desktop/stuff/repos/rossmann-store-sales/ross/lib/python3.13/site-packages/statsmodels/tsa/base/tsa_model.py:473: ValueWarning: A date index has been provided, but it has no associated frequency information and so will be ignored when e.g. forecasting.\n",
      "  self._init_dates(dates, freq)\n",
      "/Users/narendersingh/Desktop/stuff/repos/rossmann-store-sales/ross/lib/python3.13/site-packages/statsmodels/tsa/statespace/sarimax.py:966: UserWarning: Non-stationary starting autoregressive parameters found. Using zeros as starting parameters.\n",
      "  warn('Non-stationary starting autoregressive parameters'\n",
      "/Users/narendersingh/Desktop/stuff/repos/rossmann-store-sales/ross/lib/python3.13/site-packages/statsmodels/tsa/statespace/sarimax.py:978: UserWarning: Non-invertible starting MA parameters found. Using zeros as starting parameters.\n",
      "  warn('Non-invertible starting MA parameters found.'\n"
     ]
    },
    {
     "name": "stdout",
     "output_type": "stream",
     "text": [
      "Training the final, stable model...\n",
      "Model training complete.\n",
      "                                      SARIMAX Results                                      \n",
      "===========================================================================================\n",
      "Dep. Variable:                               Sales   No. Observations:                  751\n",
      "Model:             SARIMAX(3, 0, 3)x(0, 0, [1], 7)   Log Likelihood               -6697.786\n",
      "Date:                             Wed, 22 Oct 2025   AIC                          13415.571\n",
      "Time:                                     01:13:59   BIC                          13461.785\n",
      "Sample:                                          0   HQIC                         13433.377\n",
      "                                             - 751                                         \n",
      "Covariance Type:                               opg                                         \n",
      "=================================================================================\n",
      "                    coef    std err          z      P>|z|      [0.025      0.975]\n",
      "---------------------------------------------------------------------------------\n",
      "Promo          4756.1654    152.351     31.219      0.000    4457.564    5054.767\n",
      "SchoolHoliday  2603.0879    223.605     11.641      0.000    2164.830    3041.345\n",
      "ar.L1             0.4678      0.086      5.430      0.000       0.299       0.637\n",
      "ar.L2             0.9593      0.034     28.424      0.000       0.893       1.025\n",
      "ar.L3            -0.4290      0.084     -5.127      0.000      -0.593      -0.265\n",
      "ma.L1             0.2137      0.091      2.352      0.019       0.036       0.392\n",
      "ma.L2            -0.8994      0.035    -25.579      0.000      -0.968      -0.830\n",
      "ma.L3            -0.2056      0.074     -2.767      0.006      -0.351      -0.060\n",
      "ma.S.L7          -0.2659      0.048     -5.585      0.000      -0.359      -0.173\n",
      "sigma2         3.618e+06      0.077   4.68e+07      0.000    3.62e+06    3.62e+06\n",
      "===================================================================================\n",
      "Ljung-Box (L1) (Q):                   0.03   Jarque-Bera (JB):                70.85\n",
      "Prob(Q):                              0.86   Prob(JB):                         0.00\n",
      "Heteroskedasticity (H):               1.12   Skew:                             0.53\n",
      "Prob(H) (two-sided):                  0.36   Kurtosis:                         4.07\n",
      "===================================================================================\n",
      "\n",
      "Warnings:\n",
      "[1] Covariance matrix calculated using the outer product of gradients (complex-step).\n",
      "[2] Covariance matrix is singular or near-singular, with condition number 9.22e+21. Standard errors may be unstable.\n"
     ]
    },
    {
     "name": "stderr",
     "output_type": "stream",
     "text": [
      "/Users/narendersingh/Desktop/stuff/repos/rossmann-store-sales/ross/lib/python3.13/site-packages/statsmodels/base/model.py:607: ConvergenceWarning: Maximum Likelihood optimization failed to converge. Check mle_retvals\n",
      "  warnings.warn(\"Maximum Likelihood optimization failed to \"\n"
     ]
    }
   ],
   "source": [
    "# --- 14. Train the FINAL STABLE Model ---\n",
    "# We're using the new, stable orders from our second search.\n",
    "# New Best model: ARIMA(3,0,3)(0,0,1)[7]\n",
    "\n",
    "# Define the new, stable model orders\n",
    "my_order = (3, 0, 3)           # (p, d, q)\n",
    "my_seasonal_order = (0, 0, 1, 7) # (P, D, Q, m)\n",
    "\n",
    "# Create the SARIMAX model\n",
    "final_model_stable = sm.tsa.SARIMAX(\n",
    "    endog=y_train,        # The 'y' (target) training data\n",
    "    exog=X_train,         # The 'X' (helper) training data\n",
    "    order=my_order,\n",
    "    seasonal_order=my_seasonal_order\n",
    ")\n",
    "\n",
    "# Fit (train) the model\n",
    "print(\"Training the final, stable model...\")\n",
    "model_fit_stable = final_model_stable.fit(disp=False) # disp=False hides the log\n",
    "print(\"Model training complete.\")\n",
    "\n",
    "# Print the model summary\n",
    "print(model_fit_stable.summary())"
   ]
  },
  {
   "cell_type": "code",
   "execution_count": 11,
   "id": "672cd2e3",
   "metadata": {},
   "outputs": [
    {
     "name": "stderr",
     "output_type": "stream",
     "text": [
      "/Users/narendersingh/Desktop/stuff/repos/rossmann-store-sales/ross/lib/python3.13/site-packages/statsmodels/tsa/base/tsa_model.py:473: ValueWarning: A date index has been provided, but it has no associated frequency information and so will be ignored when e.g. forecasting.\n",
      "  self._init_dates(dates, freq)\n",
      "/Users/narendersingh/Desktop/stuff/repos/rossmann-store-sales/ross/lib/python3.13/site-packages/statsmodels/tsa/base/tsa_model.py:473: ValueWarning: A date index has been provided, but it has no associated frequency information and so will be ignored when e.g. forecasting.\n",
      "  self._init_dates(dates, freq)\n"
     ]
    },
    {
     "name": "stdout",
     "output_type": "stream",
     "text": [
      "Training the final, *simple* model...\n",
      "Model training complete.\n",
      "                                     SARIMAX Results                                     \n",
      "=========================================================================================\n",
      "Dep. Variable:                             Sales   No. Observations:                  751\n",
      "Model:             SARIMAX(1, 0, 1)x(0, 0, 1, 7)   Log Likelihood               -6202.604\n",
      "Date:                           Wed, 22 Oct 2025   AIC                          12417.207\n",
      "Time:                                   01:15:16   BIC                          12444.936\n",
      "Sample:                                        0   HQIC                         12427.891\n",
      "                                           - 751                                         \n",
      "Covariance Type:                             opg                                         \n",
      "=================================================================================\n",
      "                    coef    std err          z      P>|z|      [0.025      0.975]\n",
      "---------------------------------------------------------------------------------\n",
      "Promo           -94.5058    126.506     -0.747      0.455    -342.453     153.442\n",
      "SchoolHoliday  1727.7627    177.055      9.758      0.000    1380.741    2074.785\n",
      "ar.L1             0.9862      0.010     99.166      0.000       0.967       1.006\n",
      "ma.L1            -0.1766      0.057     -3.080      0.002      -0.289      -0.064\n",
      "ma.S.L7          -0.1464      0.066     -2.235      0.025      -0.275      -0.018\n",
      "sigma2         1.427e+06   8.51e+04     16.765      0.000    1.26e+06    1.59e+06\n",
      "===================================================================================\n",
      "Ljung-Box (L1) (Q):                   0.05   Jarque-Bera (JB):              1352.88\n",
      "Prob(Q):                              0.82   Prob(JB):                         0.00\n",
      "Heteroskedasticity (H):               1.06   Skew:                            -0.51\n",
      "Prob(H) (two-sided):                  0.67   Kurtosis:                         9.50\n",
      "===================================================================================\n",
      "\n",
      "Warnings:\n",
      "[1] Covariance matrix calculated using the outer product of gradients (complex-step).\n"
     ]
    },
    {
     "name": "stderr",
     "output_type": "stream",
     "text": [
      "/Users/narendersingh/Desktop/stuff/repos/rossmann-store-sales/ross/lib/python3.13/site-packages/statsmodels/base/model.py:607: ConvergenceWarning: Maximum Likelihood optimization failed to converge. Check mle_retvals\n",
      "  warnings.warn(\"Maximum Likelihood optimization failed to \"\n"
     ]
    }
   ],
   "source": [
    "# --- 15. Train a SIMPLE, STABLE Model ---\n",
    "# The (3,0,3) model was too complex and failed to converge.\n",
    "# We will manually override this with a much simpler, common, and\n",
    "# more stable model: (1, 0, 1).\n",
    "\n",
    "# Define the new, stable model orders\n",
    "my_order = (1, 0, 1)           # (p, d, q) - Our new simple model\n",
    "my_seasonal_order = (0, 0, 1, 7) # (P, D, Q, m) - The seasonal part that worked\n",
    "\n",
    "# Create the SARIMAX model\n",
    "final_model_simple = sm.tsa.SARIMAX(\n",
    "    endog=y_train,        # The 'y' (target) training data\n",
    "    exog=X_train,         # The 'X' (helper) training data\n",
    "    order=my_order,\n",
    "    seasonal_order=my_seasonal_order\n",
    ")\n",
    "\n",
    "# Fit (train) the model\n",
    "print(\"Training the final, *simple* model...\")\n",
    "model_fit_simple = final_model_simple.fit(disp=False)\n",
    "print(\"Model training complete.\")\n",
    "\n",
    "# Print the model summary\n",
    "print(model_fit_simple.summary())"
   ]
  },
  {
   "cell_type": "code",
   "execution_count": 12,
   "id": "70a56393",
   "metadata": {},
   "outputs": [
    {
     "name": "stderr",
     "output_type": "stream",
     "text": [
      "/Users/narendersingh/Desktop/stuff/repos/rossmann-store-sales/ross/lib/python3.13/site-packages/statsmodels/tsa/base/tsa_model.py:473: ValueWarning: A date index has been provided, but it has no associated frequency information and so will be ignored when e.g. forecasting.\n",
      "  self._init_dates(dates, freq)\n",
      "/Users/narendersingh/Desktop/stuff/repos/rossmann-store-sales/ross/lib/python3.13/site-packages/statsmodels/tsa/base/tsa_model.py:473: ValueWarning: A date index has been provided, but it has no associated frequency information and so will be ignored when e.g. forecasting.\n",
      "  self._init_dates(dates, freq)\n"
     ]
    },
    {
     "name": "stdout",
     "output_type": "stream",
     "text": [
      "Training the final *differenced* (d=1) model...\n",
      "Model training complete.\n",
      "                                     SARIMAX Results                                     \n",
      "=========================================================================================\n",
      "Dep. Variable:                             Sales   No. Observations:                  751\n",
      "Model:             SARIMAX(1, 1, 1)x(0, 0, 1, 7)   Log Likelihood               -5981.452\n",
      "Date:                           Wed, 22 Oct 2025   AIC                          11974.904\n",
      "Time:                                   01:15:57   BIC                          12002.625\n",
      "Sample:                                        0   HQIC                         11985.586\n",
      "                                           - 751                                         \n",
      "Covariance Type:                             opg                                         \n",
      "=================================================================================\n",
      "                    coef    std err          z      P>|z|      [0.025      0.975]\n",
      "---------------------------------------------------------------------------------\n",
      "Promo           578.9064     65.438      8.847      0.000     450.650     707.163\n",
      "SchoolHoliday  -155.2756    105.439     -1.473      0.141    -361.932      51.380\n",
      "ar.L1             0.5671      0.026     21.552      0.000       0.516       0.619\n",
      "ma.L1            -0.9457      0.011    -83.577      0.000      -0.968      -0.923\n",
      "ma.S.L7          -0.0475      0.034     -1.392      0.164      -0.114       0.019\n",
      "sigma2          4.91e+05   1.64e+04     29.911      0.000    4.59e+05    5.23e+05\n",
      "===================================================================================\n",
      "Ljung-Box (L1) (Q):                   0.11   Jarque-Bera (JB):              1023.48\n",
      "Prob(Q):                              0.74   Prob(JB):                         0.00\n",
      "Heteroskedasticity (H):               1.52   Skew:                            -0.39\n",
      "Prob(H) (two-sided):                  0.00   Kurtosis:                         8.67\n",
      "===================================================================================\n",
      "\n",
      "Warnings:\n",
      "[1] Covariance matrix calculated using the outer product of gradients (complex-step).\n"
     ]
    }
   ],
   "source": [
    "# --- 16. Train a DIFFERENCED Model to Fix Instability ---\n",
    "#\n",
    "# Our model is unstable because the 'ar.L1' term is ~1 (a \"unit root\").\n",
    "# The correct fix is to add differencing (d=1). This is the 'I' in ARIMA.\n",
    "# We will now model the *change* in sales, not the sales level.\n",
    "#\n",
    "\n",
    "# Define the new, stable model orders\n",
    "my_order = (1, 1, 1)           # (p, d, q) <-- Note: d is now 1\n",
    "my_seasonal_order = (0, 0, 1, 7) # (P, D, Q, m)\n",
    "\n",
    "# Create the SARIMAX model\n",
    "final_model_diff = sm.tsa.SARIMAX(\n",
    "    endog=y_train,        # The 'y' (target) training data\n",
    "    exog=X_train,         # The 'X' (helper) training data\n",
    "    order=my_order,\n",
    "    seasonal_order=my_seasonal_order\n",
    ")\n",
    "\n",
    "# Fit (train) the model\n",
    "print(\"Training the final *differenced* (d=1) model...\")\n",
    "model_fit_diff = final_model_diff.fit(disp=False)\n",
    "print(\"Model training complete.\")\n",
    "\n",
    "# Print the model summary\n",
    "print(model_fit_diff.summary())"
   ]
  },
  {
   "cell_type": "code",
   "execution_count": 13,
   "id": "dfcfda93",
   "metadata": {},
   "outputs": [
    {
     "name": "stdout",
     "output_type": "stream",
     "text": [
      "751    3638.641814\n",
      "752    4365.305680\n",
      "753    4472.697770\n",
      "754    4530.040384\n",
      "755    4582.427095\n",
      "Name: SARIMAX Predictions, dtype: float64\n"
     ]
    },
    {
     "name": "stderr",
     "output_type": "stream",
     "text": [
      "/Users/narendersingh/Desktop/stuff/repos/rossmann-store-sales/ross/lib/python3.13/site-packages/statsmodels/tsa/base/tsa_model.py:837: ValueWarning: No supported index is available. Prediction results will be given with an integer index beginning at `start`.\n",
      "  return get_prediction_index(\n",
      "/Users/narendersingh/Desktop/stuff/repos/rossmann-store-sales/ross/lib/python3.13/site-packages/statsmodels/tsa/base/tsa_model.py:837: FutureWarning: No supported index is available. In the next version, calling this method in a model without a supported index will result in an exception.\n",
      "  return get_prediction_index(\n"
     ]
    }
   ],
   "source": [
    "# --- 17. Make Predictions on the Test Set ---\n",
    "\n",
    "# We want to forecast for the same number of days as our test set (30 days)\n",
    "num_steps = len(y_test)\n",
    "\n",
    "# We MUST provide the 'exog' (our X features) for the future period\n",
    "# This is our X_test dataframe\n",
    "predictions = model_fit_diff.forecast(\n",
    "    steps=num_steps,\n",
    "    exog=X_test\n",
    ")\n",
    "\n",
    "# Rename the predictions Series for easy plotting\n",
    "predictions = predictions.rename('SARIMAX Predictions')\n",
    "\n",
    "# Print the first 5 predictions\n",
    "print(predictions.head())\n"
   ]
  },
  {
   "cell_type": "code",
   "execution_count": 15,
   "id": "7dcf3f97",
   "metadata": {},
   "outputs": [
    {
     "data": {
      "image/png": "[encoded data removed]",
      "text/plain": [
       "<Figure size 1500x700 with 1 Axes>"
      ]
     },
     "metadata": {},
     "output_type": "display_data"
    }
   ],
   "source": [
    "# --- 18. (Revised) - Fix Index and Plot Predictions ---\n",
    "\n",
    "# 1. THE FIX:\n",
    "# Force the predictions to use the same date index as the test set.\n",
    "# This aligns them perfectly for plotting.\n",
    "predictions.index = y_test.index\n",
    "\n",
    "# 2. THE PLOT (Same as before):\n",
    "plt.figure(figsize=(15, 7))\n",
    "plt.plot(y_test, label='Actual Sales')\n",
    "plt.plot(predictions, label='SARIMAX Predictions', color='red', linestyle='--')\n",
    "\n",
    "plt.title('Store 1 Sales: Actual vs. Forecast (Test Set)')\n",
    "plt.xlabel('Date')\n",
    "plt.ylabel('Sales')\n",
    "plt.legend()\n",
    "plt.show()"
   ]
  },
  {
   "cell_type": "code",
   "execution_count": 16,
   "id": "ef57a140",
   "metadata": {},
   "outputs": [
    {
     "name": "stdout",
     "output_type": "stream",
     "text": [
      "Model Accuracy (RMSE): 603.0296357129463\n"
     ]
    }
   ],
   "source": [
    "from sklearn.metrics import mean_squared_error\n",
    "import math\n",
    "\n",
    "# Calculate the Mean Squared Error (MSE)\n",
    "mse = mean_squared_error(y_test, predictions)\n",
    "\n",
    "# Calculate the Root Mean Squared Error (RMSE)\n",
    "rmse = math.sqrt(mse)\n",
    "\n",
    "print(f\"Model Accuracy (RMSE): {rmse}\")"
   ]
  },
  {
   "cell_type": "code",
   "execution_count": 18,
   "id": "8e83cd21",
   "metadata": {},
   "outputs": [
    {
     "name": "stdout",
     "output_type": "stream",
     "text": [
      "Model Accuracy (RMSPE): 11.92%\n"
     ]
    }
   ],
   "source": [
    "# --- 19. Calculate the Official Competition Score (RMSPE) ---\n",
    "\n",
    "# Make sure we don't have any zero sales in our test set (which we shouldn't)\n",
    "# This will prevent a \"divide by zero\" error\n",
    "if (y_test == 0).any():\n",
    "    print(\"Warning: Test data contains 0 sales. RMSPE will be incorrect.\")\n",
    "\n",
    "# Calculate RMSPE\n",
    "# 1. (y_test - predictions) / y_test   <-- Percentage Error\n",
    "# 2. (...)**2                          <-- Squared\n",
    "# 3. np.mean(...)                      <-- Mean\n",
    "# 4. np.sqrt(...)                      <-- Root\n",
    "rmspe = np.sqrt(np.mean(((y_test - predictions) / y_test) ** 2))\n",
    "\n",
    "# Multiply by 100 to make it an easy-to-read percentage\n",
    "print(f\"Model Accuracy (RMSPE): {rmspe * 100:.2f}%\")"
   ]
  },
  {
   "cell_type": "code",
   "execution_count": null,
   "id": "12594194",
   "metadata": {},
   "outputs": [],
   "source": []
  }
 ],
 "metadata": {
  "kernelspec": {
   "display_name": "ross",
   "language": "python",
   "name": "python3"
  },
  "language_info": {
   "codemirror_mode": {
    "name": "ipython",
    "version": 3
   },
   "file_extension": ".py",
   "mimetype": "text/x-python",
   "name": "python",
   "nbconvert_exporter": "python",
   "pygments_lexer": "ipython3",
   "version": "3.13.0"
  }
 },
 "nbformat": 4,
 "nbformat_minor": 5
}
